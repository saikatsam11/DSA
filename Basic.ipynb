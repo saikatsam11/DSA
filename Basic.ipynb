{
 "cells": [
  {
   "cell_type": "code",
   "execution_count": 26,
   "id": "e63501dc-1391-4df7-a1d9-b4c9431443e3",
   "metadata": {},
   "outputs": [
    {
     "name": "stdout",
     "output_type": "stream",
     "text": [
      "Not palindrome\n"
     ]
    }
   ],
   "source": [
    "class Solution:\n",
    "    def reverse(self, x: int) -> int:\n",
    "        rev = 0\n",
    "        neg = x < 0\n",
    "        x = abs(x)\n",
    "\n",
    "        while x != 0:\n",
    "            rev = rev * 10 + x % 10\n",
    "            x = x // 10\n",
    "\n",
    "        if rev > 2**31 - 1:\n",
    "            return 0\n",
    "        if rev == x:\n",
    "            print(\"this is a palindrome numbner\")\n",
    "        else:\n",
    "            print(\"Not palindrome\")\n",
    "        \n",
    "        return -rev if neg else rev\n",
    "sol = Solution()\n",
    "x = sol.reverse(3684)"
   ]
  },
  {
   "cell_type": "code",
   "execution_count": null,
   "id": "69b32588-df70-49f0-bb75-873f8a3bd6b5",
   "metadata": {},
   "outputs": [],
   "source": []
  },
  {
   "cell_type": "code",
   "execution_count": null,
   "id": "d04787a9-342c-4f37-8b67-21b15089bb24",
   "metadata": {},
   "outputs": [],
   "source": [
    "class Solution:\n",
    "    def isPalindrome(self, x: int) -> bool:\n",
    "        rev = 0\n",
    "        neg = x < 0\n",
    "        x = abs(x)\n",
    "\n",
    "        while x != 0:\n",
    "            rev = rev * 10 + x % 10\n",
    "            x = x // 10\n",
    "\n",
    "        if rev > 2**31 - 1:\n",
    "            return 0\n",
    "        if rev == x:\n",
    "            print(\"this is a palindrome numbner\")\n",
    "        else:\n",
    "            print(\"Not palindrome\")\n",
    "        \n",
    "        return -rev if neg else rev"
   ]
  },
  {
   "cell_type": "code",
   "execution_count": 41,
   "id": "f816e5ef",
   "metadata": {},
   "outputs": [
    {
     "ename": "TypeError",
     "evalue": "isArmstrong() missing 1 required positional argument: 'n'",
     "output_type": "error",
     "traceback": [
      "\u001b[1;31m---------------------------------------------------------------------------\u001b[0m",
      "\u001b[1;31mTypeError\u001b[0m                                 Traceback (most recent call last)",
      "\u001b[1;32m~\\AppData\\Local\\Temp\\ipykernel_4968\\1381912018.py\u001b[0m in \u001b[0;36m<module>\u001b[1;34m\u001b[0m\n\u001b[0;32m      8\u001b[0m         \u001b[1;32mreturn\u001b[0m \u001b[0ms\u001b[0m \u001b[1;33m==\u001b[0m \u001b[0mn\u001b[0m\u001b[1;33m\u001b[0m\u001b[1;33m\u001b[0m\u001b[0m\n\u001b[0;32m      9\u001b[0m \u001b[1;33m\u001b[0m\u001b[0m\n\u001b[1;32m---> 10\u001b[1;33m \u001b[0mSolution\u001b[0m\u001b[1;33m.\u001b[0m\u001b[0misArmstrong\u001b[0m\u001b[1;33m(\u001b[0m\u001b[1;36m371\u001b[0m\u001b[1;33m)\u001b[0m\u001b[1;33m\u001b[0m\u001b[1;33m\u001b[0m\u001b[0m\n\u001b[0m",
      "\u001b[1;31mTypeError\u001b[0m: isArmstrong() missing 1 required positional argument: 'n'"
     ]
    }
   ],
   "source": [
    "class Solution:\n",
    "    def isArmstrong(self, n: int) -> bool:\n",
    "        k = len(str(n))\n",
    "        s, x = 0, n\n",
    "        while x:\n",
    "            s += (x % 10) ** k\n",
    "            x //= 10\n",
    "        return s == n\n",
    "    \n",
    "Solution.isArmstrong(371)"
   ]
  },
  {
   "cell_type": "code",
   "execution_count": 32,
   "id": "1db1c04b",
   "metadata": {},
   "outputs": [
    {
     "name": "stdout",
     "output_type": "stream",
     "text": [
      "153 is an Armstrong number\n"
     ]
    }
   ],
   "source": [
    "class Solution:\n",
    "    def isArmstrong(self, n):\n",
    "        ncopy = n\n",
    "        sum = 0\n",
    "        while n > 0:\n",
    "            digit = n % 10\n",
    "            sum += digit ** 3  # cube of digit\n",
    "            n = n // 10\n",
    "        \n",
    "        if sum == ncopy:\n",
    "            return True\n",
    "        else:\n",
    "            return False\n",
    "\n",
    "# Usage example\n",
    "sol = Solution()\n",
    "num = 153\n",
    "if sol.isArmstrong(num):\n",
    "    print(f\"{num} is an Armstrong number\")\n",
    "else:\n",
    "    print(f\"{num} is NOT an Armstrong number\")\n"
   ]
  },
  {
   "cell_type": "code",
   "execution_count": 58,
   "id": "a879ef0b",
   "metadata": {},
   "outputs": [
    {
     "data": {
      "text/plain": [
       "[1, 2, 3, 4, 6, 9, 12, 18, 36]"
      ]
     },
     "execution_count": 58,
     "metadata": {},
     "output_type": "execute_result"
    }
   ],
   "source": [
    "class Solution:\n",
    "    def divisors(self, n):\n",
    "        result = []\n",
    "        for i in range(1,n+1):\n",
    "            if n%i == 0:\n",
    "                result.append(i)\n",
    "        return result\n",
    "s = Solution()\n",
    "x = s.divisors(36)\n",
    "x"
   ]
  },
  {
   "cell_type": "code",
   "execution_count": 5,
   "id": "b347135d",
   "metadata": {},
   "outputs": [
    {
     "data": {
      "text/plain": [
       "[1, 2, 3, 4, 6, 9, 12, 18, 36]"
      ]
     },
     "execution_count": 5,
     "metadata": {},
     "output_type": "execute_result"
    }
   ],
   "source": [
    "import math\n",
    "\n",
    "class Solution:\n",
    "    def divisors(self, n):\n",
    "        result = []\n",
    "        for i in range(1,int(math.sqrt(n))+1):\n",
    "            if n%i == 0:\n",
    "                result.append(i)\n",
    "                if n // i != i:\n",
    "                    result.append(n//i)\n",
    "        return sorted(result)\n",
    "s = Solution()\n",
    "x = s.divisors(36)\n",
    "x"
   ]
  },
  {
   "cell_type": "code",
   "execution_count": 6,
   "id": "98324c35",
   "metadata": {},
   "outputs": [
    {
     "data": {
      "text/plain": [
       "True"
      ]
     },
     "execution_count": 6,
     "metadata": {},
     "output_type": "execute_result"
    }
   ],
   "source": [
    "import math\n",
    "\n",
    "def isprime(n):\n",
    "    cnt = 0\n",
    "    for i in range(1,int(math.sqrt(n))+1):\n",
    "        if n%i == 0:\n",
    "            cnt += 1\n",
    "            if n//i != i:\n",
    "                cnt += 1\n",
    "    if cnt == 2:\n",
    "        return True\n",
    "    else:\n",
    "        return False\n",
    "\n",
    "isprime(89)\n"
   ]
  },
  {
   "cell_type": "code",
   "execution_count": 27,
   "id": "2a27e4ae",
   "metadata": {},
   "outputs": [
    {
     "data": {
      "text/plain": [
       "1"
      ]
     },
     "execution_count": 27,
     "metadata": {},
     "output_type": "execute_result"
    }
   ],
   "source": [
    "class Solution:\n",
    "    def GCD(self, n1, n2):\n",
    "        while (n1 > 0 and n2 >0):\n",
    "            if n1 > n2:\n",
    "                n1 = n1 % n2\n",
    "            else:\n",
    "                n2 = n2 % n1\n",
    "        if n1 == 0:\n",
    "            return n2\n",
    "        else:\n",
    "            return n1\n",
    "\n",
    "s = Solution()\n",
    "x = s.GCD(7,10)\n",
    "x"
   ]
  },
  {
   "cell_type": "code",
   "execution_count": 4,
   "id": "337e3215",
   "metadata": {},
   "outputs": [
    {
     "name": "stdout",
     "output_type": "stream",
     "text": [
      "[1, 5, 1, 2, 1]\n"
     ]
    }
   ],
   "source": [
    "arr= [1,2,1,5,1]\n",
    "n = 5\n",
    "a = [0]*n\n",
    "for i in range(n-1,-1,-1):\n",
    "    a[n-i-1]=arr[i]\n",
    "print(a)"
   ]
  },
  {
   "cell_type": "code",
   "execution_count": null,
   "id": "f8b32465",
   "metadata": {},
   "outputs": [],
   "source": []
  }
 ],
 "metadata": {
  "kernelspec": {
   "display_name": "Python 3 (ipykernel)",
   "language": "python",
   "name": "python3"
  },
  "language_info": {
   "codemirror_mode": {
    "name": "ipython",
    "version": 3
   },
   "file_extension": ".py",
   "mimetype": "text/x-python",
   "name": "python",
   "nbconvert_exporter": "python",
   "pygments_lexer": "ipython3",
   "version": "3.9.13"
  }
 },
 "nbformat": 4,
 "nbformat_minor": 5
}
