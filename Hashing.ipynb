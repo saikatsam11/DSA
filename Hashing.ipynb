{
 "cells": [
  {
   "cell_type": "code",
   "execution_count": 4,
   "id": "04890542",
   "metadata": {},
   "outputs": [
    {
     "name": "stdout",
     "output_type": "stream",
     "text": [
      "5\n",
      "1 3 2 1 3\n",
      "5\n",
      "1\n",
      "2\n",
      "4\n",
      "0\n",
      "2\n",
      "1\n",
      "3\n",
      "2\n",
      "12\n",
      "0\n"
     ]
    }
   ],
   "source": [
    "# Input array size\n",
    "n = int(input())\n",
    "arr = list(map(int, input().split()))\n",
    "\n",
    "# Precompute frequency\n",
    "hash_map = [0] * 13  # since size of hash array is 13\n",
    "for num in arr:\n",
    "    hash_map[num] += 1\n",
    "\n",
    "# Process queries\n",
    "q = int(input())\n",
    "while q:\n",
    "    number = int(input())\n",
    "    print(hash_map[number])\n",
    "    q -= 1\n"
   ]
  },
  {
   "cell_type": "code",
   "execution_count": 8,
   "id": "12b1b284",
   "metadata": {},
   "outputs": [
    {
     "name": "stdout",
     "output_type": "stream",
     "text": [
      "Enter the length of the array :4\n",
      "1 2 1 1\n",
      "2\n",
      "3\n",
      "0\n",
      "1\n",
      "3\n"
     ]
    }
   ],
   "source": [
    "#Hashing\n",
    "\n",
    "n = int(input(\"Enter the length of the array :\"))\n",
    "a = list(map(int, input().split()))\n",
    "\n",
    "hash_1 = [0] * 13\n",
    "\n",
    "for i in a:\n",
    "    hash_1[i] += 1\n",
    "    \n",
    "q = int(input())\n",
    "\n",
    "while q:\n",
    "    num = int(input())\n",
    "    print(hash_1[num])\n",
    "    q -=1"
   ]
  },
  {
   "cell_type": "code",
   "execution_count": 6,
   "id": "cedd5a6d",
   "metadata": {},
   "outputs": [
    {
     "name": "stdout",
     "output_type": "stream",
     "text": [
      "abad\n",
      "3\n",
      "a\n",
      "2\n",
      "b\n",
      "1\n",
      "d\n",
      "1\n"
     ]
    }
   ],
   "source": [
    "s = input()\n",
    "\n",
    "hash_map = [0] * 256\n",
    "for i in s:\n",
    "    hash_map[ord(i)] += 1\n",
    "\n",
    "q = int(input())\n",
    "while q:\n",
    "    c = input().strip()\n",
    "    print(hash_map[ord(c)])\n",
    "    q -= 1 "
   ]
  },
  {
   "cell_type": "code",
   "execution_count": 9,
   "id": "a3525fe8",
   "metadata": {},
   "outputs": [
    {
     "name": "stdout",
     "output_type": "stream",
     "text": [
      "Enter the str : abaede\n",
      "Enter the no. of characters : 3\n",
      "Enter the char : a\n",
      "No of appearence :  2\n",
      "Enter the char : b\n",
      "No of appearence :  1\n",
      "Enter the char : d\n",
      "No of appearence :  1\n"
     ]
    }
   ],
   "source": [
    "str1 = input(\"Enter the str : \")\n",
    "\n",
    "hash_2 = [0] * 256\n",
    "for i in str1:\n",
    "    hash_2[ord(i)] += 1\n",
    "\n",
    "q = int(input(\"Enter the no. of characters : \"))\n",
    "\n",
    "while q:\n",
    "    c = input(\"Enter the char : \").strip()\n",
    "    print(\"No of appearence : \",hash_2[ord(c)])\n",
    "    q -= 1"
   ]
  },
  {
   "cell_type": "code",
   "execution_count": null,
   "id": "d26c1cbb",
   "metadata": {},
   "outputs": [],
   "source": [
    "class Solution:\n",
    "    def maxFrequency(self, nums: List[int], k: int) -> int:\n",
    "        "
   ]
  },
  {
   "cell_type": "code",
   "execution_count": null,
   "id": "34424c6b",
   "metadata": {},
   "outputs": [],
   "source": []
  },
  {
   "cell_type": "code",
   "execution_count": null,
   "id": "f0373471",
   "metadata": {},
   "outputs": [],
   "source": []
  },
  {
   "cell_type": "code",
   "execution_count": null,
   "id": "f6897ca7",
   "metadata": {},
   "outputs": [],
   "source": []
  }
 ],
 "metadata": {
  "kernelspec": {
   "display_name": "Python 3 (ipykernel)",
   "language": "python",
   "name": "python3"
  },
  "language_info": {
   "codemirror_mode": {
    "name": "ipython",
    "version": 3
   },
   "file_extension": ".py",
   "mimetype": "text/x-python",
   "name": "python",
   "nbconvert_exporter": "python",
   "pygments_lexer": "ipython3",
   "version": "3.9.13"
  }
 },
 "nbformat": 4,
 "nbformat_minor": 5
}
