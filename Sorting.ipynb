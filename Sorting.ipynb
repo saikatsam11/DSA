{
 "cells": [
  {
   "cell_type": "code",
   "execution_count": 4,
   "id": "259a4e75",
   "metadata": {},
   "outputs": [
    {
     "name": "stdout",
     "output_type": "stream",
     "text": [
      "enter the size of the array 3\n",
      "enter the array 3 1 2\n",
      "The Sorted array using Selection sort :  [1, 2, 3]\n"
     ]
    }
   ],
   "source": [
    "class Solution:\n",
    "    def selectionSort(self, nums):\n",
    "        for i in range(len(nums)-1):\n",
    "            mini = i\n",
    "            for j in range(i +1 ,len(nums)):\n",
    "                if nums[j] < nums[mini]:\n",
    "                    mini = j\n",
    "            nums[i], nums[mini] = nums[mini], nums[i]\n",
    "        return nums\n",
    "#int(input(\"Enter the length of the array : \"))\n",
    "n = int(input(\"enter the size of the array \"))\n",
    "nums = list(map(int, input(\"enter the array \").split()))\n",
    "\n",
    "s = Solution()\n",
    "print(\"The Sorted array using Selection sort : \",s.selectionSort(nums))"
   ]
  },
  {
   "cell_type": "code",
   "execution_count": 22,
   "id": "f124e45d",
   "metadata": {},
   "outputs": [
    {
     "name": "stdout",
     "output_type": "stream",
     "text": [
      "Enter the size of the array: 6\n",
      "Enter the array: 13 46 24 20 9 1\n",
      "The Sorted array using Selection sort: [1, 9, 13, 20, 24, 46]\n"
     ]
    }
   ],
   "source": [
    "class Solution:\n",
    "    def selectionSort(self, nums):\n",
    "        for i in range(len(nums) - 1):\n",
    "            mini = i\n",
    "            for j in range(i + 1, len(nums)):\n",
    "                if nums[j] < nums[mini]:\n",
    "                    mini = j\n",
    "            nums[i], nums[mini] = nums[mini], nums[i]\n",
    "        return nums\n",
    "\n",
    "# Input\n",
    "n = int(input(\"Enter the size of the array: \"))\n",
    "nums = list(map(int, input(\"Enter the array: \").split()))\n",
    "\n",
    "s = Solution()\n",
    "print(\"The Sorted array using Selection sort:\", s.selectionSort(nums))\n"
   ]
  },
  {
   "cell_type": "code",
   "execution_count": 6,
   "id": "0175eca9",
   "metadata": {},
   "outputs": [
    {
     "name": "stdout",
     "output_type": "stream",
     "text": [
      "Enter the array: 9 7 5 40 2 1\n",
      "[1, 2, 5, 7, 9, 40]\n"
     ]
    }
   ],
   "source": [
    "class Solution:\n",
    "    def bubbleSort(self, nums):\n",
    "        for i in range(len(nums),-1,-1):\n",
    "            for j in range(i-1):\n",
    "                if nums[j] > nums[j+1]:\n",
    "                    nums[j], nums[j+1] = nums[j+1], nums[j]\n",
    "        return nums\n",
    "\n",
    "nums = list(map(int, input(\"Enter the array: \").split()))\n",
    "\n",
    "s = Solution()\n",
    "print(s.bubbleSort(nums))"
   ]
  },
  {
   "cell_type": "code",
   "execution_count": 1,
   "id": "05561921",
   "metadata": {},
   "outputs": [
    {
     "name": "stdout",
     "output_type": "stream",
     "text": [
      "Enter the array: 9 7 5 40 2 1\n",
      "[1, 2, 5, 7, 9, 40]\n"
     ]
    }
   ],
   "source": [
    "class Solution:\n",
    "    def insertionsort(self,nums):\n",
    "        for i in range(1,len(nums)):\n",
    "            j = i\n",
    "            while j>0 and nums[j-1] > nums[j]:\n",
    "                nums[j], nums[j-1] = nums[j-1], nums[j]\n",
    "                j -= 1\n",
    "        return nums\n",
    "\n",
    "nums = list(map(int, input(\"Enter the array: \").split()))\n",
    "    \n",
    "s = Solution()\n",
    "print(s.insertionsort(nums))"
   ]
  },
  {
   "cell_type": "code",
   "execution_count": 1,
   "id": "bc9c625d",
   "metadata": {},
   "outputs": [
    {
     "name": "stdout",
     "output_type": "stream",
     "text": [
      "9 8 98 2 4 67 120 1\n",
      "Before Sorting: [9, 8, 98, 2, 4, 67, 120, 1]\n",
      "After Sorting: [1, 2, 4, 8, 9, 67, 98, 120]\n"
     ]
    }
   ],
   "source": [
    "class Solution:\n",
    "    def mergeSort(self, nums):\n",
    "        self._merge_sort(nums, 0, len(nums) - 1)\n",
    "\n",
    "    def _merge_sort(self, nums, low, high):\n",
    "        if low >= high:\n",
    "            return\n",
    "        mid = (low + high) // 2\n",
    "        self._merge_sort(nums, low, mid)\n",
    "        self._merge_sort(nums, mid + 1, high)\n",
    "        self._merge(nums, low, mid, high)\n",
    "\n",
    "    def _merge(self, nums, low, mid, high):\n",
    "        temp = []\n",
    "        left = low\n",
    "        right = mid + 1\n",
    "\n",
    "        while left <= mid and right <= high:\n",
    "            if nums[left] <= nums[right]:\n",
    "                temp.append(nums[left])\n",
    "                left += 1\n",
    "            else:\n",
    "                temp.append(nums[right])\n",
    "                right += 1\n",
    "\n",
    "        while left <= mid:\n",
    "            temp.append(nums[left])\n",
    "            left += 1\n",
    "\n",
    "        while right <= high:\n",
    "            temp.append(nums[right])\n",
    "            right += 1\n",
    "\n",
    "        for i in range(low, high + 1):\n",
    "            nums[i] = temp[i - low]\n",
    "\n",
    "\n",
    "# Example usage\n",
    "nums = list(map(int, input().split()))\n",
    "print(\"Before Sorting:\", nums)\n",
    "\n",
    "sol = Solution()\n",
    "sol.mergeSort(nums)\n",
    "\n",
    "print(\"After Sorting:\", nums)"
   ]
  },
  {
   "cell_type": "code",
   "execution_count": 4,
   "id": "d803c2ad",
   "metadata": {},
   "outputs": [
    {
     "name": "stdout",
     "output_type": "stream",
     "text": [
      "[2, 4, 8, 9, 67, 98, 120]\n"
     ]
    }
   ],
   "source": [
    "class Solution:\n",
    "    def quickSort(self, nums):\n",
    "        self.qs(nums, 0, len(nums) - 1)\n",
    "        return nums\n",
    "\n",
    "    def qs(self, nums, low, high):\n",
    "        if low < high:\n",
    "            pIndex = self.partition(nums, low, high)\n",
    "            self.qs(nums, low, pIndex - 1)\n",
    "            self.qs(nums, pIndex + 1, high)\n",
    "\n",
    "    def partition(self, nums, low, high):\n",
    "        pivot = nums[low]\n",
    "        i = low\n",
    "        j = high\n",
    "        while i < j:\n",
    "            while i <= high - 1 and nums[i] <= pivot:\n",
    "                i += 1\n",
    "            while j >= low + 1 and nums[j] > pivot:\n",
    "                j -= 1\n",
    "            if i < j:\n",
    "                nums[i], nums[j] = nums[j], nums[i]\n",
    "        nums[low], nums[j] = nums[j], nums[low]\n",
    "        return j\n",
    "\n",
    "nums = [9, 8, 98, 2, 4, 67, 120]\n",
    "s = Solution()\n",
    "print(s.quickSort(nums))"
   ]
  }
 ],
 "metadata": {
  "kernelspec": {
   "display_name": "Python 3 (ipykernel)",
   "language": "python",
   "name": "python3"
  },
  "language_info": {
   "codemirror_mode": {
    "name": "ipython",
    "version": 3
   },
   "file_extension": ".py",
   "mimetype": "text/x-python",
   "name": "python",
   "nbconvert_exporter": "python",
   "pygments_lexer": "ipython3",
   "version": "3.9.13"
  }
 },
 "nbformat": 4,
 "nbformat_minor": 5
}
