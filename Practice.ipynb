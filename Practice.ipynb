{
 "cells": [
  {
   "cell_type": "code",
   "execution_count": 4,
   "id": "e03ea124",
   "metadata": {},
   "outputs": [
    {
     "name": "stdout",
     "output_type": "stream",
     "text": [
      "10\n"
     ]
    },
    {
     "data": {
      "text/plain": [
       "2"
      ]
     },
     "execution_count": 4,
     "metadata": {},
     "output_type": "execute_result"
    }
   ],
   "source": [
    "#Count digit\n",
    "\n",
    "class Solution:\n",
    "    def count(self, n):\n",
    "        c = 0\n",
    "        while n>0:\n",
    "            c += 1 \n",
    "            n = n //10\n",
    "        return c\n",
    "n = int(input())\n",
    "s = Solution()\n",
    "s.count(n)"
   ]
  },
  {
   "cell_type": "code",
   "execution_count": 10,
   "id": "9024d8e8",
   "metadata": {},
   "outputs": [
    {
     "data": {
      "text/plain": [
       "-5001"
      ]
     },
     "execution_count": 10,
     "metadata": {},
     "output_type": "execute_result"
    }
   ],
   "source": [
    "\n",
    "class Solution:\n",
    "    def reverse(self,n):\n",
    "        rev = 0\n",
    "        neg = n < 0\n",
    "        n = abs(n)\n",
    "        while n != 0:\n",
    "            rev = rev*10 + n%10\n",
    "            n = n // 10\n",
    "        return -rev if neg else rev\n",
    "        if rev > 2**31 - 1:\n",
    "            return 0\n",
    "        else:\n",
    "            return rev\n",
    "s = Solution()\n",
    "s.reverse(-1005)"
   ]
  },
  {
   "cell_type": "code",
   "execution_count": 15,
   "id": "afb94694",
   "metadata": {},
   "outputs": [
    {
     "name": "stdout",
     "output_type": "stream",
     "text": [
      "854\n"
     ]
    },
    {
     "data": {
      "text/plain": [
       "False"
      ]
     },
     "execution_count": 15,
     "metadata": {},
     "output_type": "execute_result"
    }
   ],
   "source": [
    "class Solution:\n",
    "    def palindrome(self,n)-> bool:\n",
    "        if n[::-1] == n:\n",
    "            return True\n",
    "        else:\n",
    "            return False\n",
    "n = input()\n",
    "s = Solution()\n",
    "s.palindrome(n)"
   ]
  },
  {
   "cell_type": "code",
   "execution_count": 12,
   "id": "d79d68b9",
   "metadata": {},
   "outputs": [
    {
     "name": "stdout",
     "output_type": "stream",
     "text": [
      "458\n"
     ]
    }
   ],
   "source": [
    "n = '854'\n",
    "print(n[::-1])"
   ]
  },
  {
   "cell_type": "code",
   "execution_count": 17,
   "id": "69716eca",
   "metadata": {},
   "outputs": [
    {
     "name": "stdout",
     "output_type": "stream",
     "text": [
      "7\n",
      "10\n"
     ]
    },
    {
     "data": {
      "text/plain": [
       "1"
      ]
     },
     "execution_count": 17,
     "metadata": {},
     "output_type": "execute_result"
    }
   ],
   "source": [
    "class Solution:\n",
    "    def GCD(self,n1,n2):\n",
    "        while n1>0 and n2>0:\n",
    "            if n1 > n2:\n",
    "                n1 = n1 % n2\n",
    "            else:\n",
    "                n2 = n2 % n1\n",
    "        if n1 == 0:\n",
    "            return n2\n",
    "        else:\n",
    "            return n1\n",
    "n1 = int(input())\n",
    "n2 = int(input())\n",
    "\n",
    "s = Solution()\n",
    "s.GCD(n1,n2)"
   ]
  },
  {
   "cell_type": "code",
   "execution_count": 12,
   "id": "ab96c3a3",
   "metadata": {},
   "outputs": [
    {
     "name": "stdout",
     "output_type": "stream",
     "text": [
      "153\n"
     ]
    },
    {
     "data": {
      "text/plain": [
       "True"
      ]
     },
     "execution_count": 12,
     "metadata": {},
     "output_type": "execute_result"
    }
   ],
   "source": [
    "class Solution:\n",
    "    def armstrong(self,n) -> bool:\n",
    "        if n < 0:\n",
    "            return False\n",
    "        xcopy = n\n",
    "        arm = 0\n",
    "        while xcopy > 0:\n",
    "            arm += (xcopy%10)**len(str(n))\n",
    "            xcopy = xcopy//10\n",
    "        return arm == n\n",
    "s = Solutio\n",
    "n()\n",
    "n = int(input())\n",
    "s.armstrong(n)"
   ]
  },
  {
   "cell_type": "code",
   "execution_count": 10,
   "id": "78df47b0",
   "metadata": {},
   "outputs": [
    {
     "data": {
      "text/plain": [
       "[1, 2, 3, 4, 6, 7, 9, 12, 18, 36]"
      ]
     },
     "execution_count": 10,
     "metadata": {},
     "output_type": "execute_result"
    }
   ],
   "source": [
    "import math\n",
    "class Solution:\n",
    "    def divisors(self,n):\n",
    "        div = []\n",
    "        for i in range(1,int(math.sqrt(n))+1):\n",
    "            if n%i == 0:\n",
    "                div.append(i)\n",
    "            if n // i != i:\n",
    "                div.append(n//i)\n",
    "        return sorted(div)\n",
    "\n",
    "s = Solution()\n",
    "s.divisors(36)"
   ]
  },
  {
   "cell_type": "code",
   "execution_count": 1,
   "id": "080abfb4",
   "metadata": {},
   "outputs": [
    {
     "data": {
      "text/plain": [
       "[1, 2, 3, 4, 6, 9, 12, 18, 36]"
      ]
     },
     "execution_count": 1,
     "metadata": {},
     "output_type": "execute_result"
    }
   ],
   "source": [
    "import math\n",
    "class Solution:\n",
    "    def divisors(self,n):\n",
    "        div = []\n",
    "        for i in range(1,int(math.sqrt(n))+1):\n",
    "            if n%i == 0:\n",
    "                div.append(i)\n",
    "                if  i != n // i :\n",
    "                    div.append(n//i)\n",
    "        return sorted(div)\n",
    "\n",
    "s = Solution()\n",
    "s.divisors(36)"
   ]
  },
  {
   "cell_type": "code",
   "execution_count": 5,
   "id": "514d9eb3",
   "metadata": {},
   "outputs": [
    {
     "name": "stdout",
     "output_type": "stream",
     "text": [
      "True\n",
      "False\n"
     ]
    }
   ],
   "source": [
    "def isPalindrome(s):\n",
    "    t = \"\"\n",
    "    for i in s:\n",
    "        if i.isalnum():\n",
    "            t += i.lower()\n",
    "    l = 0\n",
    "    r = len(t) - 1\n",
    "    if t[l] != t[r]:\n",
    "        return False\n",
    "    else:\n",
    "        return True\n",
    "s = \"A man, a plan, a canal: Panama\"\n",
    "s1 = \"man\"\n",
    "print(isPalindrome(s))\n",
    "print(isPalindrome(s1))"
   ]
  },
  {
   "cell_type": "code",
   "execution_count": 19,
   "id": "466d0286",
   "metadata": {},
   "outputs": [
    {
     "data": {
      "text/plain": [
       "[9, 7, 40, 2, 1]"
      ]
     },
     "execution_count": 19,
     "metadata": {},
     "output_type": "execute_result"
    }
   ],
   "source": [
    "def selectionsort(nums):\n",
    "    for i in range(len(nums)-1):\n",
    "        mini = i\n",
    "        for j in range(i+1,len(nums)):\n",
    "            if nums[j] < nums[mini]:\n",
    "                j = mini\n",
    "        nums[i],nums[mini] = nums[mini],nums[i]\n",
    "    return nums\n",
    "nums = [9,7,40,2,1]\n",
    "selectionsort(nums)"
   ]
  },
  {
   "cell_type": "code",
   "execution_count": 15,
   "id": "7b769da8",
   "metadata": {},
   "outputs": [
    {
     "data": {
      "text/plain": [
       "[1, 2, 7, 9, 40]"
      ]
     },
     "execution_count": 15,
     "metadata": {},
     "output_type": "execute_result"
    }
   ],
   "source": [
    "def bubblesort(nums):\n",
    "    for i in range(len(nums),-1,-1):\n",
    "        for j in range(i-1):\n",
    "            if nums[j] > nums[j+1]:\n",
    "                nums[j],nums[j+1] = nums[j+1], nums[j]\n",
    "    return nums\n",
    "bubblesort(nums)"
   ]
  },
  {
   "cell_type": "code",
   "execution_count": 18,
   "id": "44abb794",
   "metadata": {},
   "outputs": [
    {
     "data": {
      "text/plain": [
       "[1, 2, 7, 9, 40]"
      ]
     },
     "execution_count": 18,
     "metadata": {},
     "output_type": "execute_result"
    }
   ],
   "source": [
    "def insertionsort(nums):\n",
    "    for i in range(1,len(nums)):\n",
    "        j = i\n",
    "        while j > 0 and nums[j-1] > nums[j]:\n",
    "            nums[j],nums[j+1] = nums[j+1], nums[j]\n",
    "            j -= 1\n",
    "    return nums\n",
    "insertionsort(nums)"
   ]
  },
  {
   "cell_type": "code",
   "execution_count": null,
   "id": "0a3b10e3",
   "metadata": {},
   "outputs": [],
   "source": [
    "import math\n",
    "\n",
    "class Solution:\n",
    "    def divisors(self, n):\n",
    "        div = []\n",
    "        for i in range(1, int(math.sqrt(n)) + 1):\n",
    "            if n % i == 0:\n",
    "                div.append(i)\n",
    "                if i != n // i:\n",
    "                    div.append(n // i)\n",
    "        return sorted(div)\n",
    "    "
   ]
  },
  {
   "cell_type": "code",
   "execution_count": 2,
   "id": "4f567b0c",
   "metadata": {},
   "outputs": [
    {
     "name": "stdout",
     "output_type": "stream",
     "text": [
      "1\n",
      "2\n",
      "3\n",
      "4\n"
     ]
    }
   ],
   "source": [
    "def f(i,n):\n",
    "    if i>n:\n",
    "        return\n",
    "    print(i)\n",
    "    f(i+1,n)\n",
    "f(1,4)"
   ]
  },
  {
   "cell_type": "code",
   "execution_count": 4,
   "id": "be40074c",
   "metadata": {},
   "outputs": [
    {
     "name": "stdout",
     "output_type": "stream",
     "text": [
      "Saikat\n",
      "Saikat\n",
      "Saikat\n",
      "Saikat\n",
      "Saikat\n",
      "Saikat\n",
      "Saikat\n",
      "Saikat\n"
     ]
    }
   ],
   "source": [
    "def f(i,n):\n",
    "    if i>n:\n",
    "        return\n",
    "    print(\"Saikat\")\n",
    "    f(i+1,n)\n",
    "f(1,8)"
   ]
  },
  {
   "cell_type": "code",
   "execution_count": 9,
   "id": "c1a29ae4",
   "metadata": {},
   "outputs": [
    {
     "name": "stdout",
     "output_type": "stream",
     "text": [
      "4\n",
      "3\n",
      "2\n",
      "1\n"
     ]
    }
   ],
   "source": [
    "def f(n):\n",
    "    if n < 1:\n",
    "        return\n",
    "    print(n)\n",
    "    f(n-1)\n",
    "f(4)"
   ]
  },
  {
   "cell_type": "code",
   "execution_count": 13,
   "id": "bdf08910",
   "metadata": {},
   "outputs": [
    {
     "data": {
      "text/plain": [
       "15"
      ]
     },
     "execution_count": 13,
     "metadata": {},
     "output_type": "execute_result"
    }
   ],
   "source": [
    "def sum(n):\n",
    "    if n<1:\n",
    "        return 0\n",
    "    if n == 1:\n",
    "        return 1\n",
    "    n += sum(n-1)\n",
    "    return n\n",
    "sum(5)"
   ]
  },
  {
   "cell_type": "code",
   "execution_count": 15,
   "id": "80eb48d8",
   "metadata": {},
   "outputs": [
    {
     "data": {
      "text/plain": [
       "24"
      ]
     },
     "execution_count": 15,
     "metadata": {},
     "output_type": "execute_result"
    }
   ],
   "source": [
    "def fact(n):\n",
    "    if n == 0 or n == 1:\n",
    "        return 1\n",
    "    n = n * fact(n-1)\n",
    "    return n\n",
    "fact(4)"
   ]
  },
  {
   "cell_type": "code",
   "execution_count": 17,
   "id": "46749676",
   "metadata": {},
   "outputs": [
    {
     "name": "stdout",
     "output_type": "stream",
     "text": [
      "4 5 6 7\n"
     ]
    },
    {
     "data": {
      "text/plain": [
       "[7, 6, 5, 4]"
      ]
     },
     "execution_count": 17,
     "metadata": {},
     "output_type": "execute_result"
    }
   ],
   "source": [
    "def reverse(arr,i = 0):\n",
    "    if i >= len(arr)//2:\n",
    "        return\n",
    "    arr[i], arr[len(arr)-i-1] = arr[len(arr)-i-1],arr[i]\n",
    "    reverse(arr,i+1)\n",
    "    return arr\n",
    "arr = list(map(int, input().split()))\n",
    "reverse(arr)"
   ]
  },
  {
   "cell_type": "code",
   "execution_count": 1,
   "id": "8a0338a6",
   "metadata": {},
   "outputs": [
    {
     "name": "stdout",
     "output_type": "stream",
     "text": [
      "True\n",
      "False\n"
     ]
    }
   ],
   "source": [
    "class Solution:\n",
    "    def palindrome(self,s:str) -> bool:\n",
    "        t = \"\"\n",
    "        for i in s:\n",
    "            if i.isalnum():\n",
    "                t += i.lower()\n",
    "            l = 0\n",
    "            r = len(t) - 1\n",
    "        while l < r:\n",
    "            if t[l] != t[r]:\n",
    "                return False\n",
    "            else:\n",
    "                l += 1\n",
    "                r -= 1\n",
    "        return True\n",
    "\n",
    "s = Solution()\n",
    "print(s.palindrome(\"A man, a plan, a canal: Panama\"))\n",
    "print(s.palindrome(\"Man\"))"
   ]
  },
  {
   "cell_type": "code",
   "execution_count": 4,
   "id": "236cc550",
   "metadata": {},
   "outputs": [
    {
     "data": {
      "text/plain": [
       "2"
      ]
     },
     "execution_count": 4,
     "metadata": {},
     "output_type": "execute_result"
    }
   ],
   "source": [
    "def fib(n):\n",
    "    if n <= 1:\n",
    "        return n\n",
    "    return fib(n-1)+fib(n-2)\n",
    "fib(3)"
   ]
  },
  {
   "cell_type": "code",
   "execution_count": 10,
   "id": "a709ab50",
   "metadata": {},
   "outputs": [
    {
     "name": "stdout",
     "output_type": "stream",
     "text": [
      "6 4 77 10 55 7 14\n"
     ]
    },
    {
     "data": {
      "text/plain": [
       "[4, 6, 7, 10, 14, 55, 77]"
      ]
     },
     "execution_count": 10,
     "metadata": {},
     "output_type": "execute_result"
    }
   ],
   "source": [
    "def bubblesort(nums):\n",
    "    for i in range(len(nums),-1,-1):\n",
    "        for j in range(i-1):\n",
    "            if nums[j] > nums[j+1]:\n",
    "                nums[j],nums[j+1] = nums[j+1],nums[j]\n",
    "    return nums\n",
    "nums = list(map(int, input().split()))\n",
    "bubblesort(nums)"
   ]
  },
  {
   "cell_type": "code",
   "execution_count": 20,
   "id": "fafe5229",
   "metadata": {},
   "outputs": [
    {
     "data": {
      "text/plain": [
       "[4, 6, 7, 10, 14, 55, 77]"
      ]
     },
     "execution_count": 20,
     "metadata": {},
     "output_type": "execute_result"
    }
   ],
   "source": [
    "def selectionsort(nums):\n",
    "    for i in range(len(nums)-1):\n",
    "        mini = i\n",
    "        for j in range(i+1,(len(nums))):\n",
    "            if nums[j] < nums[mini]:\n",
    "                mini = j\n",
    "        nums[i],nums[mini] = nums[mini],nums[i]\n",
    "    return nums\n",
    "nums = [6, 4, 77, 10, 55, 7, 14]\n",
    "selectionsort(nums)"
   ]
  },
  {
   "cell_type": "code",
   "execution_count": 21,
   "id": "9000218a",
   "metadata": {},
   "outputs": [
    {
     "data": {
      "text/plain": [
       "[4, 6, 7, 10, 14, 55, 77]"
      ]
     },
     "execution_count": 21,
     "metadata": {},
     "output_type": "execute_result"
    }
   ],
   "source": [
    "def insertionsort(nums):\n",
    "    for i in range(len(nums)):\n",
    "        j = i\n",
    "        while j >0 and nums[j-1]>nums[j]:\n",
    "            nums[j-1],nums[j] = nums[j-1],nums[j]\n",
    "    return nums\n",
    "insertionsort(nums)"
   ]
  },
  {
   "cell_type": "code",
   "execution_count": 18,
   "id": "ee7886f7",
   "metadata": {},
   "outputs": [
    {
     "data": {
      "text/plain": [
       "[4, 6, 7, 10, 14, 55, 77]"
      ]
     },
     "execution_count": 18,
     "metadata": {},
     "output_type": "execute_result"
    }
   ],
   "source": [
    "nums"
   ]
  },
  {
   "cell_type": "code",
   "execution_count": 8,
   "id": "39a2c2e3",
   "metadata": {},
   "outputs": [
    {
     "name": "stdout",
     "output_type": "stream",
     "text": [
      "6 5 4 3 2 1\n",
      "Before Sorting: [6, 5, 4, 3, 2, 1]\n",
      "After Sorting: [1, 2, 3, 4, 5, 6]\n"
     ]
    }
   ],
   "source": [
    "class Solution:\n",
    "    def mergesort(self,nums):\n",
    "        self.merge_sort(nums,0,len(nums)-1)\n",
    "    \n",
    "    def merge_sort(self,nums,low,high):\n",
    "            if low >= high:\n",
    "                return\n",
    "            mid = (low+high)//2\n",
    "            self.merge_sort(nums,low,mid)\n",
    "            self.merge_sort(nums,mid+1,high)\n",
    "            self.merge(nums,low,mid,high)\n",
    "        \n",
    "    def merge(self,nums,low,mid,high):\n",
    "            temp = []\n",
    "            left = low\n",
    "            right = mid +1 \n",
    "            while left<=mid and right <= high:\n",
    "                if nums[left] <= nums[right]:\n",
    "                    temp.append(nums[left])\n",
    "                    left += 1\n",
    "                else:\n",
    "                    temp.append(nums[right])\n",
    "                    right += 1\n",
    "            while left <= mid:\n",
    "                temp.append(nums[left])\n",
    "                left += 1\n",
    "            \n",
    "            while right <= high:\n",
    "                temp.append(nums[right])\n",
    "                right += 1\n",
    "            \n",
    "            for i in range(low,high+1):\n",
    "                nums[i] = temp[i -low]\n",
    "            \n",
    "# Example usage\n",
    "nums = list(map(int, input().split()))\n",
    "print(\"Before Sorting:\", nums)\n",
    "\n",
    "sol = Solution()\n",
    "sol.mergesort(nums)\n",
    "\n",
    "print(\"After Sorting:\", nums)"
   ]
  },
  {
   "cell_type": "code",
   "execution_count": 15,
   "id": "2c1148ee",
   "metadata": {},
   "outputs": [
    {
     "name": "stdout",
     "output_type": "stream",
     "text": [
      "[1, 2, 3, 4, 5, 6]\n"
     ]
    }
   ],
   "source": [
    "def mergesort(num):\n",
    "      merge_sort(num,0,len(num)-1)\n",
    "\n",
    "def merge_sort(num,low,high):\n",
    "    if low >=high:\n",
    "        return\n",
    "    mid = (low+high)//2\n",
    "    merge_sort(num,low,mid)\n",
    "    merge_sort(num,mid+1,high)\n",
    "    merge(num,low,mid,high)\n",
    "\n",
    "def merge(num,low,mid,high):\n",
    "            temp = []\n",
    "            left = low\n",
    "            right = mid +1\n",
    "            while left<=mid and right <= high:\n",
    "                if num[left]<= num[right]:\n",
    "                    temp.append(num[left])\n",
    "                    left += 1\n",
    "                else:\n",
    "                    temp.append(num[right])\n",
    "                    right += 1\n",
    "          \n",
    "            while left<= mid :\n",
    "                temp.append(num[left])\n",
    "                left += 1\n",
    "            while right<= high:\n",
    "                temp.append(num[right])\n",
    "                right += 1\n",
    "            for i in range(low,high+1):\n",
    "                num[i] = temp[i - low]\n",
    "\n",
    "num = [6,5,4,3,2,1]\n",
    "print(mergesort(num))\n"
   ]
  },
  {
   "cell_type": "code",
   "execution_count": 24,
   "id": "91a90414",
   "metadata": {},
   "outputs": [
    {
     "name": "stdout",
     "output_type": "stream",
     "text": [
      "[1, 3, 4, 5, 6, 22]\n"
     ]
    }
   ],
   "source": [
    "def mergesort(num):\n",
    "    merge_sort(num,0,len(num)-1)\n",
    "    return num    \n",
    "\n",
    "def merge_sort(num,low,high):\n",
    "    if low >=high:\n",
    "        return\n",
    "    mid = (low+high)//2\n",
    "    merge_sort(num,low,mid)\n",
    "    merge_sort(num,mid+1,high)\n",
    "    merge(num,low,mid,high)\n",
    "\n",
    "def merge(num,low,mid,high):\n",
    "    temp = []\n",
    "    left = low\n",
    "    right = mid +1\n",
    "    while left<=mid and right <= high:\n",
    "        if num[left]<= num[right]:\n",
    "            temp.append(num[left])\n",
    "            left += 1\n",
    "        else:\n",
    "            temp.append(num[right])\n",
    "            right += 1\n",
    "          \n",
    "    while left<= mid :\n",
    "        temp.append(num[left])\n",
    "        left += 1\n",
    "    \n",
    "    while right<= high:\n",
    "        temp.append(num[right])\n",
    "        right += 1\n",
    "    \n",
    "    for i in range(low,high+1):\n",
    "        num[i] = temp[i - low]\n",
    "\n",
    "num = [6,5,4,3,22,1]\n",
    "print(mergesort(num))\n"
   ]
  },
  {
   "cell_type": "code",
   "execution_count": 1,
   "id": "a19a2a72",
   "metadata": {},
   "outputs": [
    {
     "name": "stdout",
     "output_type": "stream",
     "text": [
      "2 4 1 0 5 2 1\n"
     ]
    },
    {
     "data": {
      "text/plain": [
       "5"
      ]
     },
     "execution_count": 1,
     "metadata": {},
     "output_type": "execute_result"
    }
   ],
   "source": [
    "class Solution:\n",
    "    def largest(self,nums):\n",
    "        largest = nums[0]\n",
    "        for i in range(len(nums)):\n",
    "            if nums[i] > largest:\n",
    "                largest = nums[i]\n",
    "                i += 1\n",
    "        return largest\n",
    "\n",
    "nums = list(map(int,input().split()))\n",
    "s = Solution()\n",
    "s.largest(nums)"
   ]
  },
  {
   "cell_type": "code",
   "execution_count": 3,
   "id": "7e1f2dda",
   "metadata": {},
   "outputs": [
    {
     "name": "stdout",
     "output_type": "stream",
     "text": [
      "2 4 1 0 5 2 1\n"
     ]
    },
    {
     "data": {
      "text/plain": [
       "4"
      ]
     },
     "execution_count": 3,
     "metadata": {},
     "output_type": "execute_result"
    }
   ],
   "source": [
    "class Solution:\n",
    "    def slargest(self,nums):\n",
    "        largest = nums[0]\n",
    "        slargest = -1\n",
    "        for num in nums:\n",
    "            if num > largest:\n",
    "                slargest = largest\n",
    "                largest = num\n",
    "            elif num < largest and num > slargest:\n",
    "                slargest = num\n",
    "        return slargest\n",
    "nums = list(map(int, input().split()))\n",
    "s = Solution()\n",
    "s.slargest(nums)"
   ]
  },
  {
   "cell_type": "code",
   "execution_count": 5,
   "id": "b2dd3b8e",
   "metadata": {},
   "outputs": [
    {
     "name": "stdout",
     "output_type": "stream",
     "text": [
      "2 4 1 0 5 2 1\n"
     ]
    },
    {
     "data": {
      "text/plain": [
       "1"
      ]
     },
     "execution_count": 5,
     "metadata": {},
     "output_type": "execute_result"
    }
   ],
   "source": [
    "class Solution:\n",
    "    def ssmallest(self,nums):\n",
    "        smallest = nums[0]\n",
    "        ssmallest = float('inf')\n",
    "        for num in nums:\n",
    "            if num < smallest :\n",
    "                ssmallest = smallest\n",
    "                smallest = num\n",
    "            elif num > smallest:\n",
    "                ssmallest = num\n",
    "        return ssmallest\n",
    "nums = list(map(int, input().split()))\n",
    "s = Solution()\n",
    "s.ssmallest(nums)"
   ]
  },
  {
   "cell_type": "code",
   "execution_count": 11,
   "id": "667b8160",
   "metadata": {},
   "outputs": [
    {
     "name": "stdout",
     "output_type": "stream",
     "text": [
      "2 1 3 6 4\n"
     ]
    },
    {
     "data": {
      "text/plain": [
       "False"
      ]
     },
     "execution_count": 11,
     "metadata": {},
     "output_type": "execute_result"
    }
   ],
   "source": [
    "class Solution:\n",
    "    def isSorted(self,nums) -> bool:\n",
    "        for i in range(1,len(nums)):\n",
    "            if nums[i] < nums[i-1]:\n",
    "                return False\n",
    "        return True\n",
    "\n",
    "nums = list(map(int, input().split()))\n",
    "s = Solution()\n",
    "s.isSorted(nums)"
   ]
  },
  {
   "cell_type": "code",
   "execution_count": 15,
   "id": "5ebab6f8",
   "metadata": {},
   "outputs": [
    {
     "data": {
      "text/plain": [
       "[1, 2, 3, 4, 5, 11, 3, 4, 5, 6, 7, 8, 9, 10, 11, 12]"
      ]
     },
     "execution_count": 15,
     "metadata": {},
     "output_type": "execute_result"
    }
   ],
   "source": [
    "def unionArry(nums1,nums2):\n",
    "    i,j = 0,0\n",
    "    union = []\n",
    "    while i < len(nums1) and j < len(nums2):\n",
    "            if nums1[i] <= nums2[j]:\n",
    "                if len(union) == 0 or union[-1] != nums1[i]:\n",
    "                    union.append(nums1[i])\n",
    "                i += 1\n",
    "            else:\n",
    "                if len(union) == 0 or union[-1] != nums2[j]:\n",
    "                    union.append(nums2[j])\n",
    "                j += 1\n",
    "    while i < len(nums1):\n",
    "            if union[-1] != nums1[i]:\n",
    "                union.append(nums1[i])\n",
    "            i += 1\n",
    "    while j < len(nums2):\n",
    "            if union[-1] != nums2[j]:\n",
    "                union.append(nums2[j])\n",
    "            j += 1\n",
    "    return union\n",
    "nums1 = [1, 11, 3, 4, 5, 6, 7, 8, 9, 10]\n",
    "nums2 = [2, 3, 4, 4, 5, 11, 12]\n",
    "unionArry(nums1,nums2)"
   ]
  },
  {
   "cell_type": "code",
   "execution_count": 6,
   "id": "3e11e6aa",
   "metadata": {},
   "outputs": [
    {
     "ename": "KeyboardInterrupt",
     "evalue": "",
     "output_type": "error",
     "traceback": [
      "\u001b[1;31m---------------------------------------------------------------------------\u001b[0m",
      "\u001b[1;31mKeyboardInterrupt\u001b[0m                         Traceback (most recent call last)",
      "\u001b[1;32m~\\AppData\\Local\\Temp\\ipykernel_6580\\3707761450.py\u001b[0m in \u001b[0;36m<module>\u001b[1;34m\u001b[0m\n\u001b[0;32m     11\u001b[0m         \u001b[1;32mreturn\u001b[0m \u001b[0mrev\u001b[0m\u001b[1;33m\u001b[0m\u001b[1;33m\u001b[0m\u001b[0m\n\u001b[0;32m     12\u001b[0m     \u001b[1;32mreturn\u001b[0m \u001b[1;33m-\u001b[0m\u001b[0mrev\u001b[0m \u001b[1;32mif\u001b[0m \u001b[0mneg\u001b[0m \u001b[1;32melse\u001b[0m \u001b[0mrev\u001b[0m\u001b[1;33m\u001b[0m\u001b[1;33m\u001b[0m\u001b[0m\n\u001b[1;32m---> 13\u001b[1;33m \u001b[0mreverse\u001b[0m\u001b[1;33m(\u001b[0m\u001b[1;33m-\u001b[0m\u001b[1;36m108\u001b[0m\u001b[1;33m)\u001b[0m\u001b[1;33m\u001b[0m\u001b[1;33m\u001b[0m\u001b[0m\n\u001b[0m",
      "\u001b[1;32m~\\AppData\\Local\\Temp\\ipykernel_6580\\3707761450.py\u001b[0m in \u001b[0;36mreverse\u001b[1;34m(n)\u001b[0m\n\u001b[0;32m      5\u001b[0m     \u001b[1;32mwhile\u001b[0m \u001b[0mn\u001b[0m \u001b[1;33m!=\u001b[0m \u001b[1;36m0\u001b[0m\u001b[1;33m:\u001b[0m\u001b[1;33m\u001b[0m\u001b[1;33m\u001b[0m\u001b[0m\n\u001b[0;32m      6\u001b[0m         \u001b[0mrev\u001b[0m \u001b[1;33m=\u001b[0m \u001b[0mrev\u001b[0m\u001b[1;33m*\u001b[0m\u001b[1;36m10\u001b[0m \u001b[1;33m+\u001b[0m \u001b[0mn\u001b[0m\u001b[1;33m%\u001b[0m\u001b[1;36m10\u001b[0m\u001b[1;33m\u001b[0m\u001b[1;33m\u001b[0m\u001b[0m\n\u001b[1;32m----> 7\u001b[1;33m         \u001b[0mn\u001b[0m \u001b[1;33m=\u001b[0m \u001b[0mn\u001b[0m\u001b[1;33m//\u001b[0m\u001b[1;36m10\u001b[0m\u001b[1;33m\u001b[0m\u001b[1;33m\u001b[0m\u001b[0m\n\u001b[0m\u001b[0;32m      8\u001b[0m     \u001b[1;32mif\u001b[0m \u001b[0mrev\u001b[0m \u001b[1;33m>\u001b[0m \u001b[1;36m2\u001b[0m\u001b[1;33m**\u001b[0m\u001b[1;36m31\u001b[0m \u001b[1;33m-\u001b[0m\u001b[1;36m1\u001b[0m\u001b[1;33m:\u001b[0m\u001b[1;33m\u001b[0m\u001b[1;33m\u001b[0m\u001b[0m\n\u001b[0;32m      9\u001b[0m         \u001b[1;32mreturn\u001b[0m \u001b[1;36m0\u001b[0m\u001b[1;33m\u001b[0m\u001b[1;33m\u001b[0m\u001b[0m\n",
      "\u001b[1;31mKeyboardInterrupt\u001b[0m: "
     ]
    }
   ],
   "source": [
    "def reverse(n):\n",
    "    rev = 0\n",
    "    neg = n < 0\n",
    "    abs(n)\n",
    "    while n != 0:\n",
    "        rev = rev*10 + n%10\n",
    "        n = n//10\n",
    "    if rev > 2**31 -1:\n",
    "        return 0\n",
    "    else:\n",
    "        return rev\n",
    "    return -rev if neg else rev\n",
    "reverse(-108)"
   ]
  },
  {
   "cell_type": "code",
   "execution_count": 8,
   "id": "5ab3d8e5",
   "metadata": {},
   "outputs": [
    {
     "data": {
      "text/plain": [
       "[1, 2, 3, 4, 6, 7, 9]"
      ]
     },
     "execution_count": 8,
     "metadata": {},
     "output_type": "execute_result"
    }
   ],
   "source": [
    "def mergesort(nums):\n",
    "    _merge_sort(nums,0,len(nums)-1)\n",
    "def _merge_sort(nums,low,high):\n",
    "    if low >= high:\n",
    "        return\n",
    "    mid = (low+high)//2\n",
    "    _merge_sort(nums,low,mid)\n",
    "    _merge_sort(nums,mid+1,high)\n",
    "    _merge(nums,low,mid,high)\n",
    "def _merge(nums,low,mid,high):\n",
    "    temp = []\n",
    "    left = low\n",
    "    right  = mid+1\n",
    "    while left <= mid and right <= high:\n",
    "        if nums[left] <= nums[right]:\n",
    "            temp.append(nums[left])\n",
    "            left += 1\n",
    "        else:\n",
    "            temp.append(nums[right])\n",
    "            right += 1\n",
    "    while left <= mid:\n",
    "        temp.append(nums[left])\n",
    "        left += 1\n",
    "    while right <= high:\n",
    "        temp.append(nums[right])\n",
    "        right += 1\n",
    "    for i in range(low,high+1):\n",
    "        nums[i] = temp[i - low]\n",
    "nums = [6,1,7,2,4,9,3]\n",
    "mergesort(nums)\n",
    "nums"
   ]
  },
  {
   "cell_type": "code",
   "execution_count": 14,
   "id": "4e421432",
   "metadata": {},
   "outputs": [
    {
     "name": "stdout",
     "output_type": "stream",
     "text": [
      "[2, 4, 8, 9, 67, 98, 120]\n"
     ]
    }
   ],
   "source": [
    "def quicksort(nums):\n",
    "    qs(nums,0,len(nums)-1)\n",
    "    return nums\n",
    "def qs(nums,low,high):\n",
    "    if low < high:\n",
    "        pIndex = partition(nums,low,high)\n",
    "        qs(nums,low,pIndex -1)\n",
    "        qs(nums,pIndex+1,high)\n",
    "def partition(nums,low,high):\n",
    "    pivot = nums[low]\n",
    "    i = low\n",
    "    j = high\n",
    "    while i < j:\n",
    "        while nums[i] <= pivot and i <= high - 1:\n",
    "            i += 1\n",
    "        while nums[j] > pivot and j >= low + 1:\n",
    "            j -= 1\n",
    "        if i < j:\n",
    "            nums[i],nums[j] = nums[j],nums[i]\n",
    "    nums[low],nums[j] = nums[j], nums[low]\n",
    "    return j\n",
    "nums = [9, 8, 98, 2, 4, 67, 120]\n",
    "print(quicksort(nums))"
   ]
  },
  {
   "cell_type": "code",
   "execution_count": 16,
   "id": "bad4a7c2",
   "metadata": {},
   "outputs": [
    {
     "data": {
      "text/plain": [
       "7"
      ]
     },
     "execution_count": 16,
     "metadata": {},
     "output_type": "execute_result"
    }
   ],
   "source": [
    "def largestelement(nums):\n",
    "    largest = nums[0]\n",
    "    for i in range(len(nums)):\n",
    "        if nums[i] > largest:\n",
    "            largest = nums[i]\n",
    "    return largest\n",
    "nums = [7,5,1,4,0,2,1,4]\n",
    "largestelement(nums)"
   ]
  },
  {
   "cell_type": "code",
   "execution_count": 18,
   "id": "11019d4c",
   "metadata": {},
   "outputs": [
    {
     "data": {
      "text/plain": [
       "5"
      ]
     },
     "execution_count": 18,
     "metadata": {},
     "output_type": "execute_result"
    }
   ],
   "source": [
    "def secondlargest(nums):\n",
    "    sslargest = -1\n",
    "    largest = nums[0]\n",
    "    for i in range(len(nums)):\n",
    "        if nums[i]>largest:\n",
    "            sslargest = largest\n",
    "            largest = nums[i]\n",
    "        elif nums[i] < largest and sslargest < nums[i]:\n",
    "            sslargest = nums[i]\n",
    "    return sslargest\n",
    "nums = [7,5,1,4,0,2,1,4]\n",
    "secondlargest(nums)"
   ]
  },
  {
   "cell_type": "code",
   "execution_count": 23,
   "id": "05e7dc69",
   "metadata": {},
   "outputs": [
    {
     "data": {
      "text/plain": [
       "1"
      ]
     },
     "execution_count": 23,
     "metadata": {},
     "output_type": "execute_result"
    }
   ],
   "source": [
    "def secondsmalllest(nums):\n",
    "    smallest = nums[0]\n",
    "    ssmallest  = float('inf')\n",
    "    for i in range(len(nums)):\n",
    "        if nums[i] < smallest:\n",
    "            ssmallest = smallest\n",
    "            smallest = nums[i]\n",
    "        elif ssmallest > nums[i] > smallest:\n",
    "            ssmallest = nums[i]\n",
    "    return ssmallest\n",
    "nums = [7,5,1,4,0,2,1,4] \n",
    "secondsmalllest(nums)"
   ]
  },
  {
   "cell_type": "code",
   "execution_count": 28,
   "id": "06f4f3eb",
   "metadata": {},
   "outputs": [
    {
     "data": {
      "text/plain": [
       "False"
      ]
     },
     "execution_count": 28,
     "metadata": {},
     "output_type": "execute_result"
    }
   ],
   "source": [
    "def issorted(nums):\n",
    "    for i in range(1,len(nums)):\n",
    "        if nums[i] < nums[i-1]:\n",
    "            return False\n",
    "    return True\n",
    "nums = [4,1,7,8,9] \n",
    "issorted(nums)"
   ]
  },
  {
   "cell_type": "code",
   "execution_count": 6,
   "id": "eac63153",
   "metadata": {},
   "outputs": [
    {
     "data": {
      "text/plain": [
       "[2, 3, 4, 5, 6, 7, 1]"
      ]
     },
     "execution_count": 6,
     "metadata": {},
     "output_type": "execute_result"
    }
   ],
   "source": [
    "def onerotate(nums):\n",
    "    temp = nums[0]\n",
    "    for i in range(1,len(nums)):\n",
    "        nums[i-1] = nums[i]\n",
    "    nums[len(nums) - 1] = temp\n",
    "    return nums\n",
    "nums = [1,2,3,4,5,6,7]\n",
    "onerotate(nums)"
   ]
  },
  {
   "cell_type": "code",
   "execution_count": 6,
   "id": "31c02dac",
   "metadata": {},
   "outputs": [
    {
     "data": {
      "text/plain": [
       "[1, 2, 3, 4, 5, 6, 7, 8, 9]"
      ]
     },
     "execution_count": 6,
     "metadata": {},
     "output_type": "execute_result"
    }
   ],
   "source": [
    "def union(arr1,arr2):\n",
    "    n1 = len(arr1)\n",
    "    n2 = len(arr2)\n",
    "    i, j = 0, 0\n",
    "    union = []\n",
    "    while i < n1 and j < n2:\n",
    "        if arr1[i] <= arr2[j]:\n",
    "            if len(union) == 0 or union[-1] != arr1[i]:\n",
    "                union.append(arr1[i])\n",
    "            i += 1\n",
    "        else:\n",
    "            if len(union) == 0 or union[-1] != arr2[j]:\n",
    "                union.append(arr2[j])\n",
    "            j += 1\n",
    "    while i < n1:\n",
    "            if union[-1] != arr1[i]:\n",
    "                union.append(arr1[i])\n",
    "            i  += 1\n",
    "    while j < n2:\n",
    "            if union[-1] != arr2[j]:\n",
    "                union.append(arr2[j])\n",
    "            j += 1\n",
    "    return union\n",
    "arr1 = [2,3,5,7,9]\n",
    "arr2 = [1,4,6,8]\n",
    "union(arr1,arr2)"
   ]
  },
  {
   "cell_type": "code",
   "execution_count": 13,
   "id": "82dd6a6f",
   "metadata": {},
   "outputs": [
    {
     "data": {
      "text/plain": [
       "[3]"
      ]
     },
     "execution_count": 13,
     "metadata": {},
     "output_type": "execute_result"
    }
   ],
   "source": [
    "def intersection(nums1,nums2):\n",
    "    i,j = 0,0\n",
    "    ans = []\n",
    "    while i < len(nums1) and j < len(nums2):\n",
    "        if nums1[i] < nums2[j]:\n",
    "            i += 1\n",
    "        elif nums1[i] > nums2[j]:\n",
    "            j += 1\n",
    "        else:\n",
    "            ans.append(nums1[i])\n",
    "            i += 1\n",
    "            j += 1\n",
    "    if len(ans) == 0:\n",
    "        return \"No Common Element\"\n",
    "    else:\n",
    "        return ans\n",
    "arr1 = [2,3,5,7,9]\n",
    "arr2 = [1,3,6,8]\n",
    "intersection(arr1,arr2)"
   ]
  },
  {
   "cell_type": "code",
   "execution_count": 27,
   "id": "ce1203a4",
   "metadata": {},
   "outputs": [
    {
     "data": {
      "text/plain": [
       "4"
      ]
     },
     "execution_count": 27,
     "metadata": {},
     "output_type": "execute_result"
    }
   ],
   "source": [
    "def mis(nums):\n",
    "    n = len(nums) + 1\n",
    "    hashh = [0]*(n+1)\n",
    "    for val in nums:\n",
    "        hashh[val] = 1\n",
    "    for i in range(1,n+1):\n",
    "        if hashh[i] == 0:\n",
    "            return i\n",
    "nums = [3,2,1,5]\n",
    "mis(nums)"
   ]
  },
  {
   "cell_type": "code",
   "execution_count": 25,
   "id": "cea7c853",
   "metadata": {},
   "outputs": [
    {
     "data": {
      "text/plain": [
       "4"
      ]
     },
     "execution_count": 25,
     "metadata": {},
     "output_type": "execute_result"
    }
   ],
   "source": [
    "def missing(nums):\n",
    "    n = max(nums)\n",
    "    sn = (n * (n+1))/2\n",
    "    s = 0\n",
    "    for i in range(n-1):\n",
    "        s += nums[i]\n",
    "    return int(sn - s)\n",
    "nums = [3,2,1,5]\n",
    "missing(nums)"
   ]
  },
  {
   "cell_type": "code",
   "execution_count": 23,
   "id": "caf36737",
   "metadata": {},
   "outputs": [
    {
     "data": {
      "text/plain": [
       "4"
      ]
     },
     "execution_count": 23,
     "metadata": {},
     "output_type": "execute_result"
    }
   ],
   "source": [
    "def miss(nums):\n",
    "    xr1 = 0; xr2 = 0\n",
    "    n = len(nums)\n",
    "    for i in range(n):\n",
    "        xr1 ^= nums[i]\n",
    "        xr2 ^= (i+1)\n",
    "    return xr1^xr2\n",
    "nums = [0,3,2,1,5]\n",
    "miss(nums)"
   ]
  },
  {
   "cell_type": "code",
   "execution_count": 28,
   "id": "824fbc9e",
   "metadata": {},
   "outputs": [
    {
     "data": {
      "text/plain": [
       "3"
      ]
     },
     "execution_count": 28,
     "metadata": {},
     "output_type": "execute_result"
    }
   ],
   "source": [
    "def maxones(nums):\n",
    "    cnt = 0\n",
    "    maxi = 0\n",
    "    for i in range(len(nums)):\n",
    "        if nums[i] == 1:\n",
    "            cnt += 1\n",
    "            maxi = max(maxi,cnt)\n",
    "        else:\n",
    "            cnt = 0\n",
    "    return maxi\n",
    "nums = [1,1,0,1,1,1,0,1,1]\n",
    "maxones(nums)"
   ]
  },
  {
   "cell_type": "code",
   "execution_count": 31,
   "id": "bb6ebbc9",
   "metadata": {},
   "outputs": [
    {
     "data": {
      "text/plain": [
       "0"
      ]
     },
     "execution_count": 31,
     "metadata": {},
     "output_type": "execute_result"
    }
   ],
   "source": [
    "def onlyones(nums):\n",
    "    xor = 0\n",
    "    for i in range(len(nums)):\n",
    "        xor ^= nums[i]\n",
    "    return xor\n",
    "nums = [1,1,4,4,3,3]\n",
    "onlyones(nums)"
   ]
  }
 ],
 "metadata": {
  "kernelspec": {
   "display_name": "Python 3 (ipykernel)",
   "language": "python",
   "name": "python3"
  },
  "language_info": {
   "codemirror_mode": {
    "name": "ipython",
    "version": 3
   },
   "file_extension": ".py",
   "mimetype": "text/x-python",
   "name": "python",
   "nbconvert_exporter": "python",
   "pygments_lexer": "ipython3",
   "version": "3.9.13"
  }
 },
 "nbformat": 4,
 "nbformat_minor": 5
}
