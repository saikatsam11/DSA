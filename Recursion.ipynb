{
 "cells": [
  {
   "cell_type": "code",
   "execution_count": 6,
   "id": "153a14f8",
   "metadata": {},
   "outputs": [
    {
     "name": "stdout",
     "output_type": "stream",
     "text": [
      "0\n",
      "1\n",
      "2\n"
     ]
    }
   ],
   "source": [
    "cnt = 0\n",
    "def main():\n",
    "    global cnt\n",
    "    if cnt == 3:\n",
    "        return\n",
    "    print(cnt)\n",
    "    cnt += 1\n",
    "    main()\n",
    "main()"
   ]
  },
  {
   "cell_type": "code",
   "execution_count": 7,
   "id": "52cdbd5d",
   "metadata": {},
   "outputs": [
    {
     "name": "stdout",
     "output_type": "stream",
     "text": [
      "Enter a Number : 8\n",
      "Saikat\n",
      "Saikat\n",
      "Saikat\n",
      "Saikat\n",
      "Saikat\n",
      "Saikat\n",
      "Saikat\n",
      "Saikat\n"
     ]
    }
   ],
   "source": [
    "#print name N times\n",
    "\n",
    "def f(i,n):\n",
    "    if i > n:\n",
    "        return\n",
    "    print(\"Saikat\")\n",
    "    f(i+1,n)\n",
    "    \n",
    "n = int(input(\"Enter a Number : \"))\n",
    "f(1,n)"
   ]
  },
  {
   "cell_type": "code",
   "execution_count": 8,
   "id": "dd06d29e",
   "metadata": {},
   "outputs": [
    {
     "name": "stdout",
     "output_type": "stream",
     "text": [
      "Enter an Number : 7\n",
      "1\n",
      "2\n",
      "3\n",
      "4\n",
      "5\n",
      "6\n",
      "7\n"
     ]
    }
   ],
   "source": [
    "# print 1 to n\n",
    "\n",
    "def f(i,n):\n",
    "    if i > n:\n",
    "        return\n",
    "    print(i)\n",
    "    f(i+1,n)\n",
    "    \n",
    "n = int(input(\"Enter an Number : \"))\n",
    "f(1,n)"
   ]
  },
  {
   "cell_type": "code",
   "execution_count": 12,
   "id": "fd0f1402",
   "metadata": {},
   "outputs": [
    {
     "name": "stdout",
     "output_type": "stream",
     "text": [
      "Enter an Number : 4\n",
      "4\n",
      "3\n",
      "2\n",
      "1\n"
     ]
    }
   ],
   "source": [
    "# print n to 1\n",
    "def f(n):\n",
    "    if  n < 1:\n",
    "        return\n",
    "    print(n)\n",
    "    f(n-1)\n",
    "    \n",
    "n = int(input(\"Enter an Number : \"))\n",
    "f(n)"
   ]
  },
  {
   "cell_type": "code",
   "execution_count": 13,
   "id": "de58334f",
   "metadata": {},
   "outputs": [
    {
     "name": "stdout",
     "output_type": "stream",
     "text": [
      "Enter an Number : 4\n",
      "4\n",
      "3\n",
      "2\n",
      "1\n"
     ]
    }
   ],
   "source": [
    "# print n to 1\n",
    "def f(i,n):\n",
    "    if  i < 1:\n",
    "        return\n",
    "    print(i)\n",
    "    f(i-1, n)\n",
    "    \n",
    "n = int(input(\"Enter an Number : \"))\n",
    "f(n,n)"
   ]
  },
  {
   "cell_type": "code",
   "execution_count": 14,
   "id": "3fcd73d3",
   "metadata": {},
   "outputs": [
    {
     "name": "stdout",
     "output_type": "stream",
     "text": [
      "Enter an Number : 4\n",
      "1\n",
      "2\n",
      "3\n",
      "4\n"
     ]
    }
   ],
   "source": [
    "# print 1 to n using backtracking\n",
    "def f(i,n):\n",
    "    if  i < 1:\n",
    "        return\n",
    "    f(i-1, n)\n",
    "    print(i)\n",
    "    \n",
    "n = int(input(\"Enter an Number : \"))\n",
    "f(n,n)"
   ]
  },
  {
   "cell_type": "code",
   "execution_count": 2,
   "id": "39da680f",
   "metadata": {},
   "outputs": [
    {
     "name": "stdout",
     "output_type": "stream",
     "text": [
      "Enter an Number : 4\n",
      "4\n",
      "3\n",
      "2\n",
      "1\n"
     ]
    }
   ],
   "source": [
    "# print n to 1 using backtracking\n",
    "\n",
    "def f(i,n):\n",
    "    if  i > n:\n",
    "        return\n",
    "    f(i+1, n)\n",
    "    print(i)\n",
    "    \n",
    "n = int(input(\"Enter an Number : \"))\n",
    "f(1,n)"
   ]
  },
  {
   "cell_type": "code",
   "execution_count": 2,
   "id": "b8a51b2e",
   "metadata": {},
   "outputs": [
    {
     "name": "stdout",
     "output_type": "stream",
     "text": [
      "55\n"
     ]
    }
   ],
   "source": [
    "# first n numbers sum\n",
    "\n",
    "def f(i,sum):\n",
    "    if i < 1:\n",
    "        print(sum)\n",
    "        return\n",
    "    f(i-1, sum+i)\n",
    "\n",
    "f(10,0)"
   ]
  },
  {
   "cell_type": "code",
   "execution_count": 1,
   "id": "138a7271",
   "metadata": {},
   "outputs": [
    {
     "data": {
      "text/plain": [
       "55"
      ]
     },
     "execution_count": 1,
     "metadata": {},
     "output_type": "execute_result"
    }
   ],
   "source": [
    "def sum(n):\n",
    "    if n == 0:\n",
    "        return 0\n",
    "    if n == 1:\n",
    "        return 1\n",
    "    return n + sum(n-1)\n",
    "sum(10)"
   ]
  },
  {
   "cell_type": "code",
   "execution_count": 4,
   "id": "235f8d0d",
   "metadata": {},
   "outputs": [
    {
     "name": "stdout",
     "output_type": "stream",
     "text": [
      "10\n"
     ]
    }
   ],
   "source": [
    "class Solution:\n",
    "    def NnumbersSum(self, N):\n",
    "        if N  == 0:\n",
    "            return 0\n",
    "        if N == 1:\n",
    "            return 1\n",
    "        return N + self.NnumbersSum(N-1)\n",
    "s = Solution()\n",
    "print(s.NnumbersSum(4))"
   ]
  },
  {
   "cell_type": "code",
   "execution_count": 1,
   "id": "f224136b",
   "metadata": {},
   "outputs": [
    {
     "data": {
      "text/plain": [
       "24809140811395398091946477116594033660926243886570122837795894512655842677572867409443815424000000000000000000"
      ]
     },
     "execution_count": 1,
     "metadata": {},
     "output_type": "execute_result"
    }
   ],
   "source": [
    "def fact(n):\n",
    "    if n ==0 or n ==1:\n",
    "        return 1\n",
    "    return n * fact(n-1)\n",
    "\n",
    "fact(75)"
   ]
  },
  {
   "cell_type": "code",
   "execution_count": 7,
   "id": "710531c1",
   "metadata": {},
   "outputs": [
    {
     "name": "stdout",
     "output_type": "stream",
     "text": [
      "24\n"
     ]
    }
   ],
   "source": [
    "class Solution:\n",
    "    def fact(self, n: int):\n",
    "        if n == 0 or n == 1:\n",
    "            return 1\n",
    "        return n * self.fact(n-1)\n",
    "s = Solution()\n",
    "print(s.fact(4))"
   ]
  },
  {
   "cell_type": "code",
   "execution_count": 9,
   "id": "220a35c2",
   "metadata": {},
   "outputs": [
    {
     "name": "stdout",
     "output_type": "stream",
     "text": [
      "Enter length of the array :2\n",
      "Enter the array : 1 2 \n",
      "['2', '1']\n"
     ]
    }
   ],
   "source": [
    "#Reversing array\n",
    "\n",
    "class Solution:\n",
    "    def reverse(self,arr,n, i = 0):\n",
    "        if i >= n//2:\n",
    "            return arr\n",
    "        arr[i], arr[n-i-1] = arr[n-i-1], arr[i]\n",
    "        self.reverse(arr,n, i+1)\n",
    "        return arr\n",
    "\n",
    "n = int(input(\"Enter length of the array :\"))\n",
    "arr = input(\"Enter the array : \").split()\n",
    "\n",
    "s = Solution()\n",
    "print(s.reverse(arr,n))"
   ]
  },
  {
   "cell_type": "code",
   "execution_count": 17,
   "id": "df780d90",
   "metadata": {},
   "outputs": [
    {
     "data": {
      "text/plain": [
       "False"
      ]
     },
     "execution_count": 17,
     "metadata": {},
     "output_type": "execute_result"
    }
   ],
   "source": [
    "class Solution:    \n",
    "    def palindromeCheck(self, s, i = 0) -> bool:\n",
    "        if(i >= len(s)//2):\n",
    "            return True\n",
    "        if (s[i] != s[len(s)-i-1]):\n",
    "            return False\n",
    "        return self.palindromeCheck(s,i+1)\n",
    "s = Solution()\n",
    "s.palindromeCheck(\"A man, a plan, a canal: Panama\")"
   ]
  },
  {
   "cell_type": "code",
   "execution_count": 19,
   "id": "e8720a87",
   "metadata": {},
   "outputs": [
    {
     "data": {
      "text/plain": [
       "True"
      ]
     },
     "execution_count": 19,
     "metadata": {},
     "output_type": "execute_result"
    }
   ],
   "source": [
    "class Solution:\n",
    "    def isPalindrome(self,s:str) -> bool:\n",
    "        t = \"\"\n",
    "        for i in s:\n",
    "            if i.isalnum():\n",
    "                t += i.lower()\n",
    "            l = 0\n",
    "            r = len(t) - 1\n",
    "        while(l < r):\n",
    "            if t[l] != t[r]:\n",
    "                return False\n",
    "            else:\n",
    "                l += 1\n",
    "                r -= 1\n",
    "        return True\n",
    "s = Solution()\n",
    "s.isPalindrome(\"A man, a plan, a canal: Panama\")"
   ]
  },
  {
   "cell_type": "code",
   "execution_count": 26,
   "id": "1c743bc1",
   "metadata": {},
   "outputs": [
    {
     "data": {
      "text/plain": [
       "8"
      ]
     },
     "execution_count": 26,
     "metadata": {},
     "output_type": "execute_result"
    }
   ],
   "source": [
    "class Solution:\n",
    "    def fib(self, n: int) -> int:\n",
    "        if n <= 1:\n",
    "            return n\n",
    "        return self.fib(n-1) + self.fib(n-2)\n",
    "s = Solution()\n",
    "s.fib(6)"
   ]
  },
  {
   "cell_type": "code",
   "execution_count": null,
   "id": "40e19bfe",
   "metadata": {},
   "outputs": [],
   "source": []
  },
  {
   "cell_type": "code",
   "execution_count": null,
   "id": "96992030",
   "metadata": {},
   "outputs": [],
   "source": []
  }
 ],
 "metadata": {
  "kernelspec": {
   "display_name": "Python 3 (ipykernel)",
   "language": "python",
   "name": "python3"
  },
  "language_info": {
   "codemirror_mode": {
    "name": "ipython",
    "version": 3
   },
   "file_extension": ".py",
   "mimetype": "text/x-python",
   "name": "python",
   "nbconvert_exporter": "python",
   "pygments_lexer": "ipython3",
   "version": "3.9.13"
  }
 },
 "nbformat": 4,
 "nbformat_minor": 5
}
