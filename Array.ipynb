{
 "cells": [
  {
   "cell_type": "code",
   "execution_count": 3,
   "id": "637d639a",
   "metadata": {},
   "outputs": [
    {
     "name": "stdout",
     "output_type": "stream",
     "text": [
      "3 7 1 25 22 3 5 2\n"
     ]
    },
    {
     "data": {
      "text/plain": [
       "25"
      ]
     },
     "execution_count": 3,
     "metadata": {},
     "output_type": "execute_result"
    }
   ],
   "source": [
    "class Solution:\n",
    "    def largestElement(self, nums):\n",
    "        largest = nums[0]\n",
    "        for i in range(len(nums)):\n",
    "            if nums[i]>largest:\n",
    "                largest = nums[i]\n",
    "            i += 1\n",
    "        return largest\n",
    "nums = list(map(int, input().split()))\n",
    "s = Solution()\n",
    "s.largestElement(nums)"
   ]
  },
  {
   "cell_type": "code",
   "execution_count": 10,
   "id": "f997eb46",
   "metadata": {},
   "outputs": [
    {
     "name": "stdout",
     "output_type": "stream",
     "text": [
      "10 10 10 10 10 10\n"
     ]
    },
    {
     "data": {
      "text/plain": [
       "-1"
      ]
     },
     "execution_count": 10,
     "metadata": {},
     "output_type": "execute_result"
    }
   ],
   "source": [
    "class Solution:\n",
    "    def secondLargestElement(self, nums):\n",
    "        largest = nums[0]\n",
    "        slargest = -1\n",
    "        for num in nums:\n",
    "            if num>largest:\n",
    "                slargest = largest\n",
    "                largest = num\n",
    "            elif num < largest and num > slargest:\n",
    "                slargest = num\n",
    "        return slargest\n",
    "nums = list(map(int, input().split()))\n",
    "s = Solution()\n",
    "s.secondLargestElement(nums)"
   ]
  },
  {
   "cell_type": "code",
   "execution_count": 1,
   "id": "deff6d8c",
   "metadata": {},
   "outputs": [
    {
     "name": "stdout",
     "output_type": "stream",
     "text": [
      "5 4 0 1 0 1 1\n"
     ]
    },
    {
     "data": {
      "text/plain": [
       "1"
      ]
     },
     "execution_count": 1,
     "metadata": {},
     "output_type": "execute_result"
    }
   ],
   "source": [
    "class Solution:\n",
    "    def secondSmallest(self,nums):\n",
    "        smallest = nums[0]\n",
    "        ssmallest = float('inf')\n",
    "        for num in nums:\n",
    "            if num < smallest:\n",
    "                ssmallest = smallest\n",
    "                smallest = num\n",
    "            elif num > smallest:\n",
    "                ssmallest = num\n",
    "        return ssmallest\n",
    "nums = list(map(int, input().split()))\n",
    "s = Solution()\n",
    "s.secondSmallest(nums)"
   ]
  },
  {
   "cell_type": "code",
   "execution_count": 2,
   "id": "bbc03211",
   "metadata": {},
   "outputs": [],
   "source": [
    "class Solution:\n",
    "    def check(self, nums: list[int]) -> bool:\n",
    "        for i in range(1,len(nums)):\n",
    "            if nums[i] < nums[i-1]:\n",
    "                return False\n",
    "        return True"
   ]
  },
  {
   "cell_type": "code",
   "execution_count": 15,
   "id": "185f829c",
   "metadata": {},
   "outputs": [],
   "source": [
    "class Solution:\n",
    "    def removeDuplicates(self, nums: list[int]) -> int:\n",
    "        i = 0\n",
    "        for j in range(1,len(nums)):\n",
    "            if nums[i] != nums[j]:\n",
    "                nums[i+1] = nums[j]\n",
    "                i += 1\n",
    "        return i+1\n"
   ]
  },
  {
   "cell_type": "code",
   "execution_count": 13,
   "id": "27845cdb",
   "metadata": {},
   "outputs": [
    {
     "name": "stdout",
     "output_type": "stream",
     "text": [
      "2 4 5 1 2\n"
     ]
    },
    {
     "data": {
      "text/plain": [
       "[4, 5, 1, 2, 2]"
      ]
     },
     "execution_count": 13,
     "metadata": {},
     "output_type": "execute_result"
    }
   ],
   "source": [
    "class Solution:\n",
    "    def rotateArrayByOne(self, nums):\n",
    "        temp = nums[0]\n",
    "        for i in range(1, len(nums)):\n",
    "            nums[i - 1] = nums[i]\n",
    "        nums[len(nums)-1] = temp \n",
    "        return nums\n",
    "nums = list(map(int, input().split()))\n",
    "s = Solution()\n",
    "s.rotateArrayByOne(nums)"
   ]
  },
  {
   "cell_type": "code",
   "execution_count": 16,
   "id": "e97632b8",
   "metadata": {},
   "outputs": [],
   "source": [
    "#Time complexity is O(2n)\n",
    "#Space Complexity O(1)\n",
    "# Rotate an array by d places\n",
    "class Solution:\n",
    "    def rotate(self, nums: list[int], k: int) -> None:\n",
    "        k = k % len(nums)\n",
    "        self.reverse(nums,0,len(nums)-1)\n",
    "        self.reverse(nums,0,k-1)\n",
    "        self.reverse(nums,k,len(nums)-1)\n",
    "    def reverse(self,nums,l,r):\n",
    "        while l < r:\n",
    "            nums[l], nums[r] = nums[r], nums[l]\n",
    "            l += 1\n",
    "            r -= 1"
   ]
  },
  {
   "cell_type": "code",
   "execution_count": 20,
   "id": "d6f7f98c",
   "metadata": {},
   "outputs": [
    {
     "name": "stdout",
     "output_type": "stream",
     "text": [
      "2 4 1 0 8 0 4\n"
     ]
    },
    {
     "data": {
      "text/plain": [
       "[2, 4, 1, 8, 4, 0, 0]"
      ]
     },
     "execution_count": 20,
     "metadata": {},
     "output_type": "execute_result"
    }
   ],
   "source": [
    "# Move all the zeros to end of the array\n",
    "# Optimal solution -> time complexity is O(n) and space complexity is O()\n",
    "class Solution:\n",
    "    def moveZeroes(self, nums: list[int]) -> None:\n",
    "        j = -1\n",
    "        for i in range(len(nums)):\n",
    "            if nums[i] == 0:\n",
    "                j = i\n",
    "                break\n",
    "        if j == -1:\n",
    "            return nums\n",
    "\n",
    "        for i in range(j+1,len(nums)):\n",
    "            if nums[i] != 0:\n",
    "                nums[j],nums[i] = nums[i],nums[j]\n",
    "                j += 1\n",
    "        return nums\n",
    "\n",
    "nums = list(map(int, input().split()))\n",
    "s = Solution()\n",
    "s.moveZeroes(nums)    "
   ]
  },
  {
   "cell_type": "code",
   "execution_count": 17,
   "id": "c43749d1",
   "metadata": {
    "scrolled": true
   },
   "outputs": [
    {
     "name": "stdout",
     "output_type": "stream",
     "text": [
      "1 8 0 4 3 0 4\n"
     ]
    },
    {
     "data": {
      "text/plain": [
       "[1, 8, 4, 3, 4, 0, 0]"
      ]
     },
     "execution_count": 17,
     "metadata": {},
     "output_type": "execute_result"
    }
   ],
   "source": [
    "#brute force time complexity O(n) and Space complexity is O(x)\n",
    "class Solution:\n",
    "    def moveZeros(self,nums):\n",
    "        temp = []\n",
    "        for i in range(len(nums)):\n",
    "            if nums[i] != 0:\n",
    "                temp.append(nums[i])\n",
    "        nz = []\n",
    "        for i in range(len(temp)):\n",
    "            nums[i] = temp[i]\n",
    "        for i in range(len(temp),len(nums)):\n",
    "            nums[i] = 0\n",
    "        return nums\n",
    "nums = list(map(int, input().split()))\n",
    "s = Solution()\n",
    "s.moveZeros(nums)"
   ]
  },
  {
   "cell_type": "code",
   "execution_count": 25,
   "id": "fb1c9874",
   "metadata": {},
   "outputs": [
    {
     "name": "stdout",
     "output_type": "stream",
     "text": [
      "2 1 0 4 6 21 3\n",
      "5\n"
     ]
    },
    {
     "data": {
      "text/plain": [
       "-1"
      ]
     },
     "execution_count": 25,
     "metadata": {},
     "output_type": "execute_result"
    }
   ],
   "source": [
    "class Solution:\n",
    "    def linearSearch(self, nums, target):\n",
    "        for i in range(len(nums)):\n",
    "            if nums[i] == target:\n",
    "                return i\n",
    "        return -1\n",
    "nums = list(map(int, input().split()))\n",
    "target = int(input())\n",
    "s = Solution()\n",
    "s.linearSearch(nums,target)"
   ]
  },
  {
   "cell_type": "code",
   "execution_count": 29,
   "id": "6e7e0f2d",
   "metadata": {},
   "outputs": [
    {
     "name": "stdout",
     "output_type": "stream",
     "text": [
      "2 4 1 5 7 8\n",
      "3 4 6 9 1 2\n"
     ]
    },
    {
     "data": {
      "text/plain": [
       "[1, 2, 3, 4, 5, 6, 7, 8, 9]"
      ]
     },
     "execution_count": 29,
     "metadata": {},
     "output_type": "execute_result"
    }
   ],
   "source": [
    "# brute force Coplexcity -> n1logn1 + n2logn2 + n1 + n2\n",
    "# space complexity O(n1+n2) + O(n1+n2)\n",
    "\n",
    "class Solution:\n",
    "    def unionArray(self, nums1, nums2):\n",
    "        s = set()\n",
    "        for i in range(len(nums1)):\n",
    "            s.add(nums1[i])\n",
    "        for i in range(len(nums2)):\n",
    "            s.add(nums2[i])\n",
    "        union = []\n",
    "        for item in s:\n",
    "            union.append(item)\n",
    "        return union\n",
    "nums1 = list(map(int, input().split()))\n",
    "nums2 = list(map(int, input().split()))\n",
    "s = Solution()\n",
    "s.unionArray(nums1,nums2)"
   ]
  },
  {
   "cell_type": "code",
   "execution_count": 39,
   "id": "da3031da",
   "metadata": {},
   "outputs": [
    {
     "data": {
      "text/plain": [
       "[1, 2, 3, 4, 5, 6, 7, 8, 9, 10, 11, 12]"
      ]
     },
     "execution_count": 39,
     "metadata": {},
     "output_type": "execute_result"
    }
   ],
   "source": [
    "# Optimal approach Time Complexity O(n1 + n2) Space Complexity is O(n1+n2)(for returning the result)\n",
    "\n",
    "class Solution:\n",
    "    def unionArry(self,nums1,nums2):\n",
    "        i, j = 0, 0\n",
    "        union  = []\n",
    "        while i < len(nums1) and j < len(nums2):\n",
    "            if nums1[i] <= nums2[j]:\n",
    "                if len(union) == 0 or union[-1] != nums1[i]:\n",
    "                    union.append(nums1[i])\n",
    "                i += 1\n",
    "            else:\n",
    "                if len(union) == 0 or union[-1] != nums2[j]:\n",
    "                    union.append(nums2[j])\n",
    "                j += 1\n",
    "        while i < len(nums1):\n",
    "            if union[-1] != nums1[i]:\n",
    "                union.append(nums1[i])\n",
    "            i += 1\n",
    "        while j < len(nums2):\n",
    "            if union[-1] != nums2[j]:\n",
    "                union.append(nums2[j])\n",
    "            j += 1\n",
    "        return union\n",
    "nums1 = [1, 2, 3, 4, 5, 6, 7, 8, 9, 10,10]\n",
    "nums2 = [2, 3, 4, 4, 5, 11, 11, 12]\n",
    "s = Solution()\n",
    "s.unionArry(nums1,nums2)"
   ]
  },
  {
   "cell_type": "code",
   "execution_count": 46,
   "id": "0881972f",
   "metadata": {},
   "outputs": [
    {
     "data": {
      "text/plain": [
       "[2, 3, 4, 5]"
      ]
     },
     "execution_count": 46,
     "metadata": {},
     "output_type": "execute_result"
    }
   ],
   "source": [
    "#brute force Complexity is O(n1 x n2)\n",
    "\n",
    "def intersection(nums1,nums2):\n",
    "    vis = [0] * len(nums2)\n",
    "    ans = []\n",
    "    for i in range(len(nums1)):\n",
    "        for j in range(len(nums2)):\n",
    "            if nums1[i] == nums2[j] and vis[j] == 0:\n",
    "                ans.append(nums1[i])\n",
    "                vis[j] = 1\n",
    "                break\n",
    "            if nums2[j] > nums1[i]:\n",
    "                break\n",
    "            \n",
    "    return ans\n",
    "nums1 = [1, 2, 3, 4, 5, 6, 7, 8, 9, 10,10]\n",
    "nums2 = [2, 3, 4, 4, 5, 11, 11, 12]\n",
    "intersection(nums1,nums2)"
   ]
  },
  {
   "cell_type": "code",
   "execution_count": 1,
   "id": "7a159b2c",
   "metadata": {},
   "outputs": [
    {
     "data": {
      "text/plain": [
       "[2, 3, 4, 5]"
      ]
     },
     "execution_count": 1,
     "metadata": {},
     "output_type": "execute_result"
    }
   ],
   "source": [
    "# optimal O(n1 + n2)\n",
    "\n",
    "def intersection(nums1,nums2):\n",
    "    i,j = 0,0\n",
    "    ans = []\n",
    "    while i < len(nums1) and j < len(nums2):\n",
    "        if nums1[i] < nums2[j]:\n",
    "            i += 1\n",
    "        elif nums2[j] < nums1[i]:\n",
    "            j += 1\n",
    "        else:\n",
    "            ans.append(nums1[i])\n",
    "            i += 1\n",
    "            j += 1\n",
    "    return ans\n",
    "nums1 = [1, 2, 3, 4, 5, 6, 7, 8, 9, 10,10]\n",
    "nums2 = [2, 3, 4, 4, 5, 11, 11, 12]\n",
    "intersection(nums1,nums2)\n"
   ]
  },
  {
   "cell_type": "code",
   "execution_count": 6,
   "id": "82dfeaa3",
   "metadata": {},
   "outputs": [
    {
     "name": "stdout",
     "output_type": "stream",
     "text": [
      "1 2 4 5\n"
     ]
    },
    {
     "data": {
      "text/plain": [
       "3"
      ]
     },
     "execution_count": 6,
     "metadata": {},
     "output_type": "execute_result"
    }
   ],
   "source": [
    "# Missing Number :- Brute force solution\n",
    "\n",
    "def missingNum(num):\n",
    "    for i in range(1,n+1):\n",
    "        flag = 0\n",
    "        for j in range(n):\n",
    "            if num[j] == i:\n",
    "                flag = 1\n",
    "                break\n",
    "        if flag == 0:\n",
    "            return i\n",
    "num = list(map(int, input().split()))\n",
    "n = len(num)\n",
    "missingNum(num)"
   ]
  },
  {
   "cell_type": "code",
   "execution_count": 22,
   "id": "de07e641",
   "metadata": {},
   "outputs": [
    {
     "data": {
      "text/plain": [
       "2"
      ]
     },
     "execution_count": 22,
     "metadata": {},
     "output_type": "execute_result"
    }
   ],
   "source": [
    "# Better approach , Time complexity is O(2n)\n",
    "\n",
    "def miss(num):\n",
    "    n = len(num) + 1\n",
    "    hashh = [0] * (n+1)\n",
    "    for val in num:\n",
    "        hashh[val] = 1\n",
    "    for i in range(1,n+1):\n",
    "        if hashh[i] == 0:\n",
    "            return i\n",
    "num = [1,3,4,5]\n",
    "miss(num)"
   ]
  },
  {
   "cell_type": "code",
   "execution_count": 25,
   "id": "34e0ee90",
   "metadata": {},
   "outputs": [
    {
     "data": {
      "text/plain": [
       "2"
      ]
     },
     "execution_count": 25,
     "metadata": {},
     "output_type": "execute_result"
    }
   ],
   "source": [
    "# Optimal Approach , Sum approach\n",
    "def miss(num):\n",
    "    n = num[-1]\n",
    "    sum = (n * (n+1))//2\n",
    "    s2 = 0\n",
    "    for i in range(n-1):\n",
    "        s2 += num[i]\n",
    "    return sum - s2\n",
    "num = [1,3,4,5]\n",
    "miss(num)"
   ]
  },
  {
   "cell_type": "code",
   "execution_count": 39,
   "id": "f98b9bfe",
   "metadata": {},
   "outputs": [
    {
     "data": {
      "text/plain": [
       "4"
      ]
     },
     "execution_count": 39,
     "metadata": {},
     "output_type": "execute_result"
    }
   ],
   "source": [
    "# Optimal Approach , Xor approach\n",
    "class Solution:\n",
    "    def missingNumber(self, nums: list[int]) -> int:\n",
    "        n = len(nums)\n",
    "        xor1 = 0\n",
    "        xor2 = 0\n",
    "        for i in range(n):\n",
    "            xor2 = xor2 ^ nums[i]\n",
    "            xor1 = xor1 ^ (i+1)\n",
    "        return xor1 ^ xor2\n",
    "nums = [0,1,2,3,5]\n",
    "s = Solution()\n",
    "s.missingNumber(nums)"
   ]
  },
  {
   "cell_type": "code",
   "execution_count": 43,
   "id": "117f065c",
   "metadata": {},
   "outputs": [
    {
     "data": {
      "text/plain": [
       "3"
      ]
     },
     "execution_count": 43,
     "metadata": {},
     "output_type": "execute_result"
    }
   ],
   "source": [
    "#Consecutive ones\n",
    "\n",
    "class Solution:\n",
    "    def findMaxConsecutiveOnes(self, nums: list[int]) -> int:\n",
    "        cnt = 0\n",
    "        maxi = 0\n",
    "        for i in range(len(nums)):\n",
    "            if nums[i] == 1:\n",
    "                cnt += 1\n",
    "                maxi = max(maxi,cnt)\n",
    "            else:\n",
    "                cnt = 0\n",
    "        return maxi\n",
    "\n",
    "nums = [1,1,0,1,1,1]\n",
    "s = Solution()\n",
    "s.findMaxConsecutiveOnes(nums)"
   ]
  },
  {
   "cell_type": "code",
   "execution_count": 44,
   "id": "f6f6463a",
   "metadata": {},
   "outputs": [
    {
     "data": {
      "text/plain": [
       "4"
      ]
     },
     "execution_count": 44,
     "metadata": {},
     "output_type": "execute_result"
    }
   ],
   "source": [
    "# XOR, Optimal Solution\n",
    "\n",
    "class Solution:\n",
    "    def singleNumber(self, nums: list[int]) -> int:\n",
    "        xor = 0\n",
    "        n = len(nums)\n",
    "        for i in range(n):\n",
    "            xor ^= nums[i]\n",
    "        return xor\n",
    "nums = [4,1,2,1,2]\n",
    "s = Solution()\n",
    "s.singleNumber(nums)"
   ]
  },
  {
   "cell_type": "code",
   "execution_count": 3,
   "id": "034579d5",
   "metadata": {},
   "outputs": [
    {
     "data": {
      "text/plain": [
       "3"
      ]
     },
     "execution_count": 3,
     "metadata": {},
     "output_type": "execute_result"
    }
   ],
   "source": [
    "#Longest Subarray with sum K, Better force, Time Complexity is O(n^2) and Space complexity O(n)\n",
    "\n",
    "def longSubarrayWithSumK(nums,k):\n",
    "    preSumMap = {}\n",
    "    sum = 0\n",
    "    maxLen = 0\n",
    "    for i in range(len(nums)):\n",
    "        sum += nums[i]\n",
    "        if sum == k:\n",
    "            maxLen = max(maxLen, i+1)\n",
    "        rem  = sum - k\n",
    "        if rem in preSumMap:\n",
    "            length = i - preSumMap[rem]\n",
    "            maxLen = max(maxLen, length)\n",
    "            \n",
    "        if rem not in preSumMap:\n",
    "            preSumMap[sum] = i\n",
    "    return maxLen\n",
    "nums = [1, 2, 3, 1, 1, 1, 1, 4, 2, 1]\n",
    "k = 5\n",
    "longSubarrayWithSumK(nums,k)"
   ]
  },
  {
   "cell_type": "code",
   "execution_count": 4,
   "id": "21ef6882",
   "metadata": {},
   "outputs": [
    {
     "data": {
      "text/plain": [
       "3"
      ]
     },
     "execution_count": 4,
     "metadata": {},
     "output_type": "execute_result"
    }
   ],
   "source": [
    "#Longest Subarray with sum K, optimal approach, Time Complexity O(2n) and Space complexity O(1)\n",
    "class Solution:\n",
    "    def longestSubarray(self, nums, k):\n",
    "        left, right = 0, 0\n",
    "        sum = nums[0]\n",
    "        maxLen = 0\n",
    "        n = len(nums)\n",
    "        while left <= right and right < n:\n",
    "            while sum > k:\n",
    "                sum -= nums[left]\n",
    "                left += 1\n",
    "            if sum == k:\n",
    "                maxLen = max(maxLen, right - left + 1)\n",
    "            right += 1\n",
    "            if right < n:\n",
    "                sum += nums[right]\n",
    "        return maxLen\n",
    "nums = [1, 2, 3, 1, 1, 1, 1, 4, 2, 1]\n",
    "k = 5\n",
    "s = Solution()\n",
    "s.longestSubarray(nums,k)"
   ]
  },
  {
   "cell_type": "code",
   "execution_count": 9,
   "id": "b4506c9c",
   "metadata": {},
   "outputs": [
    {
     "data": {
      "text/plain": [
       "True"
      ]
     },
     "execution_count": 9,
     "metadata": {},
     "output_type": "execute_result"
    }
   ],
   "source": [
    "# 2Sum Problem, brute force, time complexity O(n^2)\n",
    "def twosum(nums,target):\n",
    "    for i in range(len(nums)):\n",
    "        for j in range(len(nums)):\n",
    "            if i == j:\n",
    "                continue\n",
    "            if nums[i] + nums[j] == target:\n",
    "                return True\n",
    "    return False\n",
    "nums = [2,7,11,15]\n",
    "target = 9\n",
    "twosum(nums,target)"
   ]
  },
  {
   "cell_type": "code",
   "execution_count": 14,
   "id": "7f60a029",
   "metadata": {},
   "outputs": [
    {
     "data": {
      "text/plain": [
       "[1, 3]"
      ]
     },
     "execution_count": 14,
     "metadata": {},
     "output_type": "execute_result"
    }
   ],
   "source": [
    "# 2Sum Problem, Time Copmplexity O(nlogn), space Complexity O(n)\n",
    "class Solution:\n",
    "    def twoSum(self, nums:list[int], target: int) -> list[int]:\n",
    "        map = {}\n",
    "        for i in range(len(nums)):\n",
    "            a = nums[i]\n",
    "            more = target - a\n",
    "            if more in map:\n",
    "                return [map[more], i]\n",
    "            map[a] = i\n",
    "        return [-1,-1]\n",
    "nums = [2,7,11,15]\n",
    "target = 22\n",
    "s = Solution()\n",
    "s.twoSum(nums,target)"
   ]
  },
  {
   "cell_type": "code",
   "execution_count": null,
   "id": "66b23bca",
   "metadata": {},
   "outputs": [],
   "source": [
    "class Solution:\n",
    "    def twoSum(self, nums:list[int], target: int) -> list[int]:\n",
    "        left = 0\n",
    "        right = len(nums)-1\n",
    "                "
   ]
  },
  {
   "cell_type": "code",
   "execution_count": 7,
   "id": "19662a9d",
   "metadata": {},
   "outputs": [
    {
     "data": {
      "text/plain": [
       "[0, 0, 0, 0, 0, 1, 1, 1, 1, 2, 2, 2]"
      ]
     },
     "execution_count": 7,
     "metadata": {},
     "output_type": "execute_result"
    }
   ],
   "source": [
    "# Sort an array of 0's 1's and 2's, better solution\n",
    "\n",
    "def sort(nums):\n",
    "    cnt0 = 0\n",
    "    cnt1 = 0\n",
    "    cnt2 = 0\n",
    "    for i in range(len(nums)):\n",
    "        if nums[i] == 0:\n",
    "            cnt0 += 1\n",
    "        elif nums[i] == 1:\n",
    "            cnt1 += 1\n",
    "        else:\n",
    "            cnt2 += 1\n",
    "    for i in range(cnt0):\n",
    "        nums[i] = 0\n",
    "    for i in range(cnt0,cnt0+cnt1):\n",
    "        nums[i] = 1\n",
    "    for i in range(cnt0+cnt1,len(nums)):\n",
    "            nums[i] = 2\n",
    "    return nums\n",
    "nums = [0,1,2,0,1,2,1,2,0,0,0,1]\n",
    "sort(nums)"
   ]
  },
  {
   "cell_type": "code",
   "execution_count": 12,
   "id": "cd61749c",
   "metadata": {},
   "outputs": [
    {
     "data": {
      "text/plain": [
       "[0, 0, 0, 0, 0, 1, 1, 1, 1, 2, 2, 2]"
      ]
     },
     "execution_count": 12,
     "metadata": {},
     "output_type": "execute_result"
    }
   ],
   "source": [
    "# Optimal Solution, Dutch National Flag Algorithm, Time Complexity O(n), Space complexity O(1)\n",
    "\n",
    "class Solution:\n",
    "    def sortColors(self, nums: list[int]):\n",
    "        low,mid,high = 0,0,len(nums) - 1\n",
    "        while mid <= high:\n",
    "            if nums[mid] == 0:\n",
    "                nums[low], nums[mid] = nums[mid], nums[low]\n",
    "                mid += 1\n",
    "                low += 1\n",
    "            elif nums[mid] == 1:\n",
    "                mid += 1\n",
    "            else:\n",
    "                nums[mid],nums[high] = nums[high], nums[mid]\n",
    "                high -= 1\n",
    "        return nums\n",
    "nums = [0,1,2,0,1,2,1,2,0,0,0,1]\n",
    "s = Solution()\n",
    "s.sortColors(nums)"
   ]
  },
  {
   "cell_type": "code",
   "execution_count": 16,
   "id": "6a047dc3",
   "metadata": {},
   "outputs": [
    {
     "data": {
      "text/plain": [
       "2"
      ]
     },
     "execution_count": 16,
     "metadata": {},
     "output_type": "execute_result"
    }
   ],
   "source": [
    "# Majority Element (>n/2 times), better solution,time coplextiy O(nlogn) + O(n)\n",
    "\n",
    "def major(nums):\n",
    "    map = {}\n",
    "    for num in nums:\n",
    "        map[num] = map.get(num,0) +1\n",
    "    for key, value in map.items():\n",
    "        if value > len(nums)//2:\n",
    "            return key\n",
    "    return -1\n",
    "nums = [2, 2, 1, 2, 2]\n",
    "major(nums)"
   ]
  },
  {
   "cell_type": "code",
   "execution_count": 18,
   "id": "544dc4c2",
   "metadata": {},
   "outputs": [],
   "source": [
    "# optimal soltuion, Moore's Voting Algorithm,  time complexity O(n)\n",
    "\n",
    "def majorityElement(nums: list[int]) -> int:\n",
    "        cnt = 0\n",
    "        for i in range(len(nums)):\n",
    "            if cnt == 0:\n",
    "                cnt = 1\n",
    "                el = nums[i]\n",
    "            elif nums[i] == el:\n",
    "                cnt += 1\n",
    "            else:\n",
    "                cnt -= 1\n",
    "        cnt1 = 0\n",
    "        for i in len(nums):\n",
    "            if nums[i] == el:\n",
    "                cnt += 1\n",
    "        if cnt1 > len(nums)//2:\n",
    "            return el\n",
    "        return -1"
   ]
  },
  {
   "cell_type": "code",
   "execution_count": null,
   "id": "2c2dbc79",
   "metadata": {},
   "outputs": [],
   "source": [
    "# Kadane's Algorithm, maximum subarray sum, time complexity O(n) and Space complexity O(1)\n",
    "def maxSubArray(self, nums: List[int]) -> int:\n",
    "    sum = 0\n",
    "    maxi = float('-inf')\n",
    "    for i in range(len(nums)):\n",
    "        sum += nums[i]\n",
    "        if sum > maxi:\n",
    "            maxi = sum\n",
    "        if sum < 0:\n",
    "            sum = 0\n",
    "        if maxi < 0:\n",
    "            maxi = 0\n",
    "        return maxi"
   ]
  },
  {
   "cell_type": "code",
   "execution_count": null,
   "id": "b3274f70",
   "metadata": {},
   "outputs": [],
   "source": [
    "def maxSubArray(self, nums: List[int]) -> int:\n",
    "    sum = 0\n",
    "    ansStart, ansEnd = -1, -1\n",
    "    maxi = float('-inf')\n",
    "    for i in range(len(nums)):\n",
    "        if sum == 0:\n",
    "            start = i\n",
    "        sum += nums[i]\n",
    "        if sum > maxi:\n",
    "            maxi = sum\n",
    "            ansStart = start\n",
    "            ansEnd = i\n",
    "        if sum < 0:\n",
    "            sum = 0\n",
    "        if maxi < 0:\n",
    "            maxi = 0\n",
    "        return maxi"
   ]
  },
  {
   "cell_type": "code",
   "execution_count": 4,
   "id": "5f7bb3d5",
   "metadata": {},
   "outputs": [
    {
     "data": {
      "text/plain": [
       "5"
      ]
     },
     "execution_count": 4,
     "metadata": {},
     "output_type": "execute_result"
    }
   ],
   "source": [
    "# Stocks buy and sell\n",
    "\n",
    "def maxProfit(prices: list[int]) -> int:\n",
    "    mini = prices[0]\n",
    "    maxiprofit = 0\n",
    "    for i in range(len(prices)):\n",
    "        cost = prices[i] - mini\n",
    "        maxiprofit = max(maxiprofit, cost)\n",
    "        mini = min(mini,prices[i])\n",
    "    return maxiprofit\n",
    "prices = [7,1,5,3,6,4]\n",
    "maxProfit(prices)        "
   ]
  },
  {
   "cell_type": "code",
   "execution_count": 12,
   "id": "d5602ce9",
   "metadata": {},
   "outputs": [
    {
     "data": {
      "text/plain": [
       "[3, -2, 1, -5, 2, -4]"
      ]
     },
     "execution_count": 12,
     "metadata": {},
     "output_type": "execute_result"
    }
   ],
   "source": [
    "# Rearrange the array in alternating positive and negative items\n",
    "# brute force, if it has equally positve and negative elements\n",
    "\n",
    "def rearrangeArray(nums: list[int]) -> list[int]:\n",
    "    ans = [0] * len(nums)\n",
    "    pos = 0\n",
    "    neg = 1\n",
    "    for i in range(len(nums)):\n",
    "        if nums[i] < 0:\n",
    "            ans[neg] = nums[i]\n",
    "            neg += 2\n",
    "        else:\n",
    "            ans[pos] = nums[i]\n",
    "            pos += 2\n",
    "    return ans\n",
    "nums = [3,1,-2,-5,2,-4]\n",
    "rearrangeArray(nums)"
   ]
  },
  {
   "cell_type": "code",
   "execution_count": 14,
   "id": "3cc13cab",
   "metadata": {},
   "outputs": [
    {
     "data": {
      "text/plain": [
       "[3, -2, 1, -5, 2, -4, 7, 6]"
      ]
     },
     "execution_count": 14,
     "metadata": {},
     "output_type": "execute_result"
    }
   ],
   "source": [
    "def alternative(nums):\n",
    "    pos = []\n",
    "    neg = []\n",
    "    for i in range(len(nums)):\n",
    "        if nums[i] > 0:\n",
    "            pos.append(nums[i])\n",
    "        else:\n",
    "            neg.append(nums[i])\n",
    "    if len(pos) > len(neg):\n",
    "        for i in range(len(neg)):\n",
    "            nums[2*i] = pos[i]\n",
    "            nums[2*i + 1]  = neg[i]\n",
    "        index = len(neg)*2\n",
    "        for i in range(len(neg),len(pos)):\n",
    "            nums[index] = pos[i]\n",
    "            index += 1\n",
    "    else:\n",
    "        for i in range(len(pos)):\n",
    "            nums[2*i] = pos[i]\n",
    "            nums[2*i + 1]  = neg[i]\n",
    "        index = len(pos)*2\n",
    "        for i in range(len(pos),len(neg)):\n",
    "            nums[index] = neg[i]\n",
    "            index += 1\n",
    "    return nums\n",
    "nums = [3,1,-2,-5,2,-4,7,6]\n",
    "alternative(nums)"
   ]
  },
  {
   "cell_type": "code",
   "execution_count": null,
   "id": "73b7b83f",
   "metadata": {},
   "outputs": [],
   "source": [
    "# Next Permutation\n",
    "def nextPermutation(nums: list[int]):\n",
    "    ind = -1\n",
    "    n = len(nums)\n",
    "    for i in range(n-2,-1,-1):\n",
    "        if nums[i] < nums[i+1]:\n",
    "            ind = i\n",
    "            break\n",
    "    if ind == -1:\n",
    "        reverse(nums,0,n-1)\n",
    "        return nums\n",
    "    for i in range(n-1,-1,-1):\n",
    "        if nums[i] > nums[ind]:\n",
    "            nums[i],nums[ind] = nums[ind], nums[i]\n",
    "            break\n",
    "    reverse(nums,ind+1,n-1)\n",
    "    return nums\n",
    "def reverse(self,nums,l,r):\n",
    "        while l < r:\n",
    "            nums[l], nums[r] = nums[r], nums[l]\n",
    "            l += 1\n",
    "            r -= 1"
   ]
  },
  {
   "cell_type": "code",
   "execution_count": 17,
   "id": "9c1af4bc",
   "metadata": {},
   "outputs": [
    {
     "data": {
      "text/plain": [
       "[6, 12, 22]"
      ]
     },
     "execution_count": 17,
     "metadata": {},
     "output_type": "execute_result"
    }
   ],
   "source": [
    "# Leaders in an Array problem, brute force O(n^2)\n",
    "def leaders(nums):\n",
    "    ans = []\n",
    "    for i in range(len(nums)):\n",
    "        leader = True\n",
    "        for j in range(i+1,len(nums)):\n",
    "            if nums[j] > nums[i]:\n",
    "                leader = False\n",
    "                break\n",
    "        if leader == True:\n",
    "            ans.append(nums[i])\n",
    "    return sorted(ans)\n",
    "nums = [10,22,12,3,0,6]\n",
    "leaders(nums)"
   ]
  },
  {
   "cell_type": "code",
   "execution_count": 22,
   "id": "e656d146",
   "metadata": {},
   "outputs": [
    {
     "data": {
      "text/plain": [
       "[22, 12, 6]"
      ]
     },
     "execution_count": 22,
     "metadata": {},
     "output_type": "execute_result"
    }
   ],
   "source": [
    "def lead(nums):\n",
    "    maxi = float('-inf')\n",
    "    ans = []\n",
    "    for i in range(len(nums)-1,-1,-1):\n",
    "        if nums[i] > maxi:\n",
    "            ans.append(nums[i])\n",
    "        maxi = max(maxi,nums[i])\n",
    "    return sorted(ans,reverse = True)\n",
    "nums = [10,22,12,3,0,6]\n",
    "lead(nums)"
   ]
  },
  {
   "cell_type": "code",
   "execution_count": 1,
   "id": "e02bc677",
   "metadata": {},
   "outputs": [],
   "source": [
    "# Longest Consecutive Sequence in an Array, Better Solution\n",
    "def longestcons(nums):\n",
    "    if len(nums) == 0:\n",
    "        return 0\n",
    "    sorted(nums)\n",
    "    n = len(nums)\n",
    "    lastSmaller = float('-inf')\n",
    "    cnt = 0\n",
    "    longest = 1\n",
    "    for i in range(n):\n",
    "        if nums[i] - 1 == lastSmaller:\n",
    "            cnt += 1\n",
    "            lastSmaller = nums[i]\n",
    "        elif lastSmaller != nums[i]:\n",
    "            cnt = 1\n",
    "            lastSmaller = nums[i]\n",
    "        longest = max(longest, cnt)\n",
    "    return longest\n"
   ]
  },
  {
   "cell_type": "code",
   "execution_count": null,
   "id": "3041bd0d",
   "metadata": {},
   "outputs": [],
   "source": [
    "# Optimal Soltuion. \n",
    "def longest(nums):\n",
    "    n = len(nums)\n",
    "    if n == 0:\n",
    "        return 0\n",
    "    longest = 1\n",
    "    sett = set()\n",
    "    \n",
    "    for i in range(n):\n",
    "        sett.add(nums[i])\n",
    "    \n",
    "    for item in set:\n",
    "        if item - 1 not in sett:\n",
    "            cnt = 1\n",
    "            x = item\n",
    "            while x + 1 in sett:\n",
    "                x = x+1\n",
    "                cnt += 1\n",
    "            longest = max(longest, cnt)\n",
    "    return longest"
   ]
  },
  {
   "cell_type": "code",
   "execution_count": 4,
   "id": "ca230ca5",
   "metadata": {},
   "outputs": [
    {
     "data": {
      "text/plain": [
       "[[0, 0, 0, 0], [0, 4, 5, 2], [0, 3, 1, 5]]"
      ]
     },
     "execution_count": 4,
     "metadata": {},
     "output_type": "execute_result"
    }
   ],
   "source": [
    "# Set Matrix Zeros, better approach O(2nm), space complexity O(n) + O(m)\n",
    "def setZeroes(matrix: list[list[int]]):\n",
    "    n = len(matrix)\n",
    "    m = len(matrix[0])\n",
    "    row = [0]*n\n",
    "    col = [0]*m\n",
    "    for i in range(n):\n",
    "        for j in range(m):\n",
    "            if matrix[i][j] == 0:\n",
    "                row[i] = 1\n",
    "                col[j] = 1\n",
    "    for i in range(n):\n",
    "        for j in range(m):\n",
    "            if row[i] == 1 or col[j] == 1:\n",
    "                matrix[i][j] = 0\n",
    "    return matrix\n",
    "matrix = [[0,1,2,0],[3,4,5,2],[1,3,1,5]]\n",
    "setZeroes(matrix)"
   ]
  },
  {
   "cell_type": "code",
   "execution_count": null,
   "id": "13f6cba9",
   "metadata": {},
   "outputs": [],
   "source": [
    "# Optimal Approach, Time Complexity O(2nm)\n",
    "\n",
    "def setZeroes(matrix: list[list[int]]):\n",
    "    col0 = 1\n",
    "    n = len(matrix)\n",
    "    m = len(matrix[0])\n",
    "    for i in range(n):\n",
    "        for j in range(m):\n",
    "            if matrix[i][j] == 0:\n",
    "                matrix[i][0] = 0\n",
    "                if j != 0:\n",
    "                    matrix[0][j] = 0\n",
    "                else:\n",
    "                    col0 = 0\n",
    "    for i in range(1,n):\n",
    "        for j in range(1,m):\n",
    "            if matrix[i][0] == 0 or matrix[0][j] == 0:\n",
    "                matrix[i][j] = 0\n",
    "    if matrix[0][0] == 0:\n",
    "        for j in range(m):\n",
    "            matrix[0][j] = 0\n",
    "    if col0 == 0:\n",
    "        for i in range(n):\n",
    "            matrix[i][0] = 0\n",
    "    return matrix\n"
   ]
  },
  {
   "cell_type": "code",
   "execution_count": 15,
   "id": "f624c34e",
   "metadata": {},
   "outputs": [
    {
     "data": {
      "text/plain": [
       "[[7, 4, 1], [8, 5, 2], [9, 6, 3]]"
      ]
     },
     "execution_count": 15,
     "metadata": {},
     "output_type": "execute_result"
    }
   ],
   "source": [
    "# Rotate Matrix by 90 degrees,\n",
    "\n",
    "def reverse(row):\n",
    "        p1 = 0\n",
    "        p2 = len(row)-1\n",
    "        while p1 < p2:\n",
    "            row[p1], row[p2] = row[p2], row[p1]\n",
    "            p1 += 1\n",
    "            p2 -= 1 \n",
    "def rotate(matrix: list[list[int]]):\n",
    "        n = len(matrix)\n",
    "        for i in range(n-1):\n",
    "            for j in range(i+1,n):\n",
    "                matrix[i][j], matrix[j][i] = matrix[j][i], matrix[i][j]\n",
    "        # Transpose O(N/2 * N/2)\n",
    "        \n",
    "        for row in matrix:\n",
    "            reverse(row)\n",
    "        # Reverse O(N * N/2)\n",
    "        \n",
    "\n",
    "matrix = [[1,2,3],[4,5,6],[7,8,9]]\n",
    "rotate(matrix)"
   ]
  },
  {
   "cell_type": "code",
   "execution_count": null,
   "id": "ccba1ed3",
   "metadata": {},
   "outputs": [],
   "source": [
    "#Print the matrix in spiral manner, Time Complexity O(n x m)\n",
    "def spiralOrder(matrix: list[list[int]]) -> list[int]:\n",
    "    n = len(matrix)\n",
    "    m = len(matrix[0])\n",
    "    left = 0\n",
    "    right = m-1\n",
    "    top = 0\n",
    "    bottom = n-1\n",
    "    ans = []\n",
    "    while top <= bottom and left <= right:\n",
    "        for i in range(left,right+1):\n",
    "            ans.append(matrix[top][i])\n",
    "        top += 1\n",
    "        for i in range(top,bottom+1):\n",
    "            ans.append(matrix[i][right])\n",
    "        right -= 1\n",
    "        if top <= bottom:\n",
    "            for i in range(right,left-1,-1):\n",
    "                ans.append(matrix[bottom][i])\n",
    "            bottom -= 1\n",
    "        if left <= right:\n",
    "            for i in range(bottom, top-1,-1):\n",
    "                ans.append(matrix[i][left])\n",
    "            left += 1\n",
    "    return ans"
   ]
  },
  {
   "cell_type": "code",
   "execution_count": null,
   "id": "47eac5a8",
   "metadata": {},
   "outputs": [],
   "source": [
    "#Count subarrays with given sum,TC : O(nlogn), SC : O(n)\n",
    "\n",
    "def subarraySum(nums: list[int], k: int) -> int:\n",
    "    mapp = {}\n",
    "    mapp[0] = 1\n",
    "    cnt = 0\n",
    "    preSum = 0\n",
    "    for i in range(len(nums)):\n",
    "        preSum += nums[i]\n",
    "        remove = preSum - k\n",
    "        cnt += mapp.get(remove,0)\n",
    "        mapp[preSum] += 1\n",
    "    return cnt"
   ]
  },
  {
   "cell_type": "code",
   "execution_count": 5,
   "id": "5f3687ca",
   "metadata": {},
   "outputs": [
    {
     "name": "stdout",
     "output_type": "stream",
     "text": [
      "1\n",
      "5\n",
      "10\n",
      "10\n",
      "5\n",
      "1\n"
     ]
    }
   ],
   "source": [
    "# Pascal's Triangle\n",
    "#1st type of Problem: print the element of the given Row and column:- solution is Fun(n-1,c-1)\n",
    "#2nd Type: Print entire Row of the Pascal triangle\n",
    "def generate(numRows: int) -> list[list[int]]:\n",
    "    ans = 1\n",
    "    print(ans)\n",
    "    for i in range(numRows):\n",
    "        ans = ans * (numRows-i)\n",
    "        ans = ans // (i+1)\n",
    "        print(ans)\n",
    "numRows = 5\n",
    "generate(5)"
   ]
  },
  {
   "cell_type": "code",
   "execution_count": 12,
   "id": "a637d428",
   "metadata": {},
   "outputs": [
    {
     "data": {
      "text/plain": [
       "[[1], [1, 1], [1, 2, 1], [1, 3, 3, 1], [1, 4, 6, 4, 1]]"
      ]
     },
     "execution_count": 12,
     "metadata": {},
     "output_type": "execute_result"
    }
   ],
   "source": [
    "# 3rd Type: print the entire Pascal Triangle;\n",
    "def generate(numRows: int) -> list[list[int]]:\n",
    "    ans = []\n",
    "    for i in range(numRows):\n",
    "        ans.append(row(i+1))\n",
    "    return ans\n",
    "def row(numRows):\n",
    "    ansf = 1\n",
    "    ansRow = []\n",
    "    ansRow.append(ansf)\n",
    "    for i in range(1,numRows):\n",
    "        ansf = ansf * (numRows-i)\n",
    "        ansf = ansf // (i)\n",
    "        ansRow.append(ansf)\n",
    "    return ansRow\n",
    "generate(5)"
   ]
  },
  {
   "cell_type": "code",
   "execution_count": null,
   "id": "3964a0d5",
   "metadata": {},
   "outputs": [],
   "source": [
    "# Majority Element (n/3 times)\n",
    "\n",
    "def majorityElement(self, nums: list[int]) -> list[int]:\n",
    "    cnt1 = 0\n",
    "    cnt2 = 0\n",
    "    for i in range(len(nums)-1):\n",
    "        if cnt1 == 0 and nums[i] != el2:\n",
    "            cnt1 = 1\n",
    "            el1 = nums[i]\n",
    "        elif cnt2 == 0 and nums[i] != el1:\n",
    "            cnt2 = 1\n",
    "            el2 = nums[i]\n",
    "        elif el1 == nums[i]:\n",
    "            cnt1 += 1\n",
    "        elif el2 == nums[i]:\n",
    "            cnt2 += 1\n",
    "        else:\n",
    "            cnt1 -= 1\n",
    "            cnt2 -= 1\n",
    "    ls = []\n",
    "    cnt1 = 0, cnt2 = 0\n",
    "    for i in range(len(nums)):\n",
    "        if el1 == nums[i]:\n",
    "            cnt1 += 1\n",
    "        if el2 == nums[i]:\n",
    "            cnt2 += 1\n",
    "    mini = len(nums)//3 + 1\n",
    "    if cnt1 >= mini:\n",
    "        ls.append(el1)\n",
    "    if cnt2 >= mini:\n",
    "        ls.append(el2)\n",
    "    return sorted(ls)"
   ]
  },
  {
   "cell_type": "code",
   "execution_count": 4,
   "id": "ea40f8e6",
   "metadata": {},
   "outputs": [
    {
     "name": "stdout",
     "output_type": "stream",
     "text": [
      "[[0, 0, 0], [-1, 0, 1], [-1, -1, 2]]\n"
     ]
    }
   ],
   "source": [
    "#3-Sum Problem, better, Time Complexity :- O(n^2 x logn)\n",
    "def threeSum(nums: list[int]) -> list[list[int]]:\n",
    "    st = set()\n",
    "    for i in range(len(nums)):\n",
    "        hashset = set()\n",
    "        for j in range(i+1,len(nums)):\n",
    "            third = -(nums[i] + nums[j])\n",
    "            if third in hashset:\n",
    "                triplet = tuple(sorted([nums[i], nums[j], third]))\n",
    "                st.add(triplet)\n",
    "            hashset.add(nums[j])\n",
    "    ans = [list(x) for x in st]\n",
    "    return ans\n",
    "print(threeSum([-1, 0, 0, 0, 1, 2, -1, -4]))"
   ]
  },
  {
   "cell_type": "code",
   "execution_count": 9,
   "id": "f9bb31aa",
   "metadata": {},
   "outputs": [
    {
     "name": "stdout",
     "output_type": "stream",
     "text": [
      "[[-1, -1, 2], [-1, 0, 1], [0, 0, 0]]\n"
     ]
    }
   ],
   "source": [
    "#3-Sum Problem, optimal, time compleity O(n^2 * logn)\n",
    "\n",
    "def threeSum(nums: list[int]) -> list[list[int]]:\n",
    "    ans = []\n",
    "    nums.sort()\n",
    "    for i in range(len(nums)):\n",
    "        if i > 0 and nums[i] == nums[i-1]:\n",
    "            continue\n",
    "        j = i + 1\n",
    "        k = len(nums) - 1\n",
    "        while j < k:\n",
    "            summ = nums[i] + nums[j] + nums[k]\n",
    "            if summ < 0:\n",
    "                j += 1\n",
    "            elif summ > 0:\n",
    "                k -= 1\n",
    "            else:\n",
    "                triplet = [nums[i], nums[j], nums[k]]\n",
    "                ans.append(triplet)\n",
    "                j += 1\n",
    "                k -= 1\n",
    "                while j < k and nums[j] == nums[j-1]:\n",
    "                    j += 1\n",
    "                while j < k and nums[k] == nums[k+1]:\n",
    "                    k -= 1\n",
    "    return ans\n",
    "print(threeSum([-1, 0, 0, 0, 1, 2, -1, -4]))            "
   ]
  },
  {
   "cell_type": "code",
   "execution_count": 3,
   "id": "d35df8cd",
   "metadata": {},
   "outputs": [
    {
     "name": "stdout",
     "output_type": "stream",
     "text": [
      "[[-2, -1, 1, 2], [-1, 0, 0, 1], [-2, 0, 0, 2]]\n"
     ]
    }
   ],
   "source": [
    "# 4-Sum Problem, better solution\n",
    "\n",
    "def fourSum(nums: list[int], target: int) -> list[list[int]]:\n",
    "    n = len(nums)\n",
    "    st = set()\n",
    "    for i in range(len(nums)):\n",
    "        for j in range(i+1,len(nums)):\n",
    "            hashset = set()\n",
    "            for k in range(j+1,len(nums)):\n",
    "                sum = nums[i] + nums[j] + nums[k]\n",
    "                fourth = target - sum\n",
    "                if fourth in hashset:\n",
    "                    temp = tuple(sorted([nums[i], nums[j],nums[k],fourth]))\n",
    "                    st.add(temp)\n",
    "                \n",
    "                hashset.add(nums[k])\n",
    "    ans = [list(x) for x in st]\n",
    "    return ans\n",
    "nums = [1,0,-1,0,-2,2]\n",
    "print(fourSum(nums,0))"
   ]
  },
  {
   "cell_type": "code",
   "execution_count": 7,
   "id": "0fa3fc0f",
   "metadata": {},
   "outputs": [
    {
     "name": "stdout",
     "output_type": "stream",
     "text": [
      "[[-3, -2, 2, 3], [-3, -1, 1, 3], [-3, 0, 0, 3], [-3, 0, 1, 2], [-2, -1, 0, 3], [-2, -1, 1, 2], [-2, 0, 0, 2], [-1, 0, 0, 1]]\n"
     ]
    }
   ],
   "source": [
    "# 4-Sum Problem, Optimal problem, O(n^2 x n)\n",
    "def fourSum(nums: list[int], target: int) -> list[list[int]]:\n",
    "    ans = []\n",
    "    nums.sort()\n",
    "    for i in range(len(nums)):\n",
    "        if i > 0 and nums[i] == nums[i-1]:\n",
    "            continue\n",
    "        for j in range(i+1,len(nums)):\n",
    "            if j != i+1 and nums[j] == nums[j-1]:\n",
    "                continue\n",
    "            k = j+1\n",
    "            l = len(nums) - 1\n",
    "            while k < l:\n",
    "                sums = nums[i] + nums[j]\n",
    "                sums += nums[k]\n",
    "                sums += nums[l]\n",
    "                if sums == target:\n",
    "                    temp = [nums[i],nums[j],nums[k],nums[l]]\n",
    "                    ans.append(temp)\n",
    "                    k += 1\n",
    "                    l -= 1\n",
    "                    while k < l and nums[k] == nums[k-1]:\n",
    "                        k += 1\n",
    "                    while k < l and nums[l] == nums[l+1]:\n",
    "                        l -= 1\n",
    "                elif sums < target:\n",
    "                    k += 1\n",
    "                else:\n",
    "                    l -= 1\n",
    "    return ans\n",
    "nums = [-3,-2,-1,0,0,1,2,3]\n",
    "print(fourSum(nums,0))"
   ]
  },
  {
   "cell_type": "code",
   "execution_count": null,
   "id": "0c5a3ffd",
   "metadata": {},
   "outputs": [],
   "source": []
  },
  {
   "cell_type": "code",
   "execution_count": 12,
   "id": "cf8d9985",
   "metadata": {},
   "outputs": [
    {
     "name": "stdout",
     "output_type": "stream",
     "text": [
      "3\n"
     ]
    }
   ],
   "source": [
    "# Largest Subarray with 0 XOR\n",
    "def subarrayWithSumK(nums,target):\n",
    "    xr  = 0\n",
    "    mpp = {}\n",
    "    mpp[0] = 1\n",
    "    cnt = 0\n",
    "    for i in range(len(nums)):\n",
    "        xr = xr ^ nums[i]\n",
    "        x = xr ^ target\n",
    "        cnt += mpp.get(x, 0)\n",
    "        mpp[xr] = mpp.get(xr, 0) + 1\n",
    "    return cnt\n",
    "nums = [1,2,3,2]\n",
    "print(subarrayWithSumK(nums,2))"
   ]
  },
  {
   "cell_type": "code",
   "execution_count": 22,
   "id": "8bd5aa84",
   "metadata": {},
   "outputs": [
    {
     "data": {
      "text/plain": [
       "[[1, 6], [8, 10], [15, 18]]"
      ]
     },
     "execution_count": 22,
     "metadata": {},
     "output_type": "execute_result"
    }
   ],
   "source": [
    "# Merge Overlapping Subintervals, brute, TC :- O(nlogn) + O(2n)\n",
    "\n",
    "def merge(intervals: list[list[int]]) -> list[list[int]]:\n",
    "    intervals.sort()\n",
    "    ans = []\n",
    "    i = 0\n",
    "    while i < len(intervals):\n",
    "        start = intervals[i][0]\n",
    "        end = intervals[i][1]\n",
    "        for j in range(i+1,len(intervals)):\n",
    "            if intervals[j][0] <= end:\n",
    "                end = max(end, intervals[j][1])\n",
    "                i = j\n",
    "            else:\n",
    "                break\n",
    "        ans.append([start,end])\n",
    "        i += 1\n",
    "    return ans\n",
    "intervals = [[1,3],[2,6],[8,10],[15,18]]\n",
    "merge(intervals)"
   ]
  },
  {
   "cell_type": "code",
   "execution_count": 25,
   "id": "c773bafb",
   "metadata": {},
   "outputs": [
    {
     "data": {
      "text/plain": [
       "[[1, 6], [8, 10], [15, 18]]"
      ]
     },
     "execution_count": 25,
     "metadata": {},
     "output_type": "execute_result"
    }
   ],
   "source": [
    "def merge(intervals: list[list[int]]) -> list[list[int]]:\n",
    "    intervals.sort()\n",
    "    ans = []\n",
    "    for i in range(len(intervals)):\n",
    "        if len(ans) == 0 or intervals[i][0] > ans[-1][1]:\n",
    "            ans.append(intervals[i])\n",
    "        else:\n",
    "            ans[-1][1] = max(ans[-1][1],intervals[i][1])\n",
    "    return ans\n",
    "intervals = [[1,3],[2,6],[8,10],[15,18]]\n",
    "merge(intervals)"
   ]
  },
  {
   "cell_type": "code",
   "execution_count": 13,
   "id": "10b44a28",
   "metadata": {},
   "outputs": [
    {
     "data": {
      "text/plain": [
       "[1, 2, 2, 3, 5, 6]"
      ]
     },
     "execution_count": 13,
     "metadata": {},
     "output_type": "execute_result"
    }
   ],
   "source": [
    "# Merge two sorted arrays without extra space, TC : O(n+m) + O(n+m); SC : O(n+m) \n",
    "\n",
    "def merge1(nums1: list[int], m: int, nums2: list[int], n: int):\n",
    "    nums3 =[]\n",
    "    left = 0\n",
    "    right = 0\n",
    "    while left < m and right < n:\n",
    "        if nums1[left] <= nums2[right]:\n",
    "            nums3.append(nums1[left])\n",
    "            left += 1\n",
    "        else:\n",
    "            nums3.append(nums2[right])\n",
    "            right += 1\n",
    "    while left < m:\n",
    "        nums3.append(nums1[left])\n",
    "        left += 1\n",
    "    while right < n:\n",
    "        nums3.append(nums2[right])\n",
    "        right += 1\n",
    "    for i in range(len(nums3)):\n",
    "        nums1[i] = nums3[i]\n",
    "    return nums1\n",
    "nums1 = [1,2,3,0,0,0]\n",
    "m = 3\n",
    "nums2 = [2,5,6]\n",
    "n = 3\n",
    "merge1(nums1,m,nums2,n)"
   ]
  },
  {
   "cell_type": "code",
   "execution_count": 15,
   "id": "b33c4717",
   "metadata": {},
   "outputs": [
    {
     "name": "stdout",
     "output_type": "stream",
     "text": [
      "[1, 2, 2, 3, 5, 6]\n"
     ]
    }
   ],
   "source": [
    "#Optimal approach\n",
    "\n",
    "def merge2(nums1: list[int], m: int, nums2: list[int], n: int):\n",
    "    p1 = m - 1\n",
    "    p2 = n - 1\n",
    "    p = m + n - 1\n",
    "    while p1 >= 0 and p2 >= 0:\n",
    "        if nums1[p1] > nums2[p2]:\n",
    "            nums1[p] = nums1[p1]\n",
    "            p1 -= 1\n",
    "        else:\n",
    "            nums1[p] = nums2[p2]\n",
    "            p2 -= 1\n",
    "        p -= 1\n",
    "    while p2 >= 0:\n",
    "        nums1[p] = nums2[p2]\n",
    "        p2 -= 1\n",
    "        p -= 1\n",
    "nums1 = [1, 2, 3, 0, 0, 0]\n",
    "m = 3\n",
    "nums2 = [2, 5, 6]\n",
    "n = 3\n",
    "\n",
    "merge2(nums1, m, nums2, n)\n",
    "print(nums1)"
   ]
  },
  {
   "cell_type": "code",
   "execution_count": 4,
   "id": "db4f40e5",
   "metadata": {},
   "outputs": [
    {
     "data": {
      "text/plain": [
       "[7, 4]"
      ]
     },
     "execution_count": 4,
     "metadata": {},
     "output_type": "execute_result"
    }
   ],
   "source": [
    "# Find the repeating and missing number; TC : O(2n); SC : O(n)\n",
    "def findMissingRepeatingNumbers(nums):\n",
    "    n = len(nums)\n",
    "    hashh = [0]*(n+1)\n",
    "    for i in range(n):\n",
    "        hashh[nums[i]] += 1\n",
    "        i += 1\n",
    "    repeating  = -1 \n",
    "    missing = -1\n",
    "    for i in range(1,n+1):\n",
    "        if hashh[i] == 2:\n",
    "            repeating = i\n",
    "        elif hashh[i] == 0:\n",
    "            missing  = i\n",
    "        if repeating != -1 and missing != -1:\n",
    "            break\n",
    "    return [repeating,missing]\n",
    "nums = [1, 2, 3, 6, 7, 5, 7]\n",
    "findMissingRepeatingNumbers(nums)"
   ]
  },
  {
   "cell_type": "code",
   "execution_count": 7,
   "id": "1f052cf3",
   "metadata": {},
   "outputs": [
    {
     "data": {
      "text/plain": [
       "[7, 4]"
      ]
     },
     "execution_count": 7,
     "metadata": {},
     "output_type": "execute_result"
    }
   ],
   "source": [
    "#Optimal Solution, TC : O(n); SC: O(1)\n",
    "\n",
    "def findMissingRepeatingNumbers1(nums):\n",
    "    n = len(nums)\n",
    "    Sn = (n * (n+1))/2\n",
    "    S2n = (n * (n+1) * (2*n+1))/6\n",
    "    S = 0 ; S2 = 0\n",
    "    for i in range(n):\n",
    "        S += nums[i]\n",
    "        S2 += nums[i] * nums[i]\n",
    "    \n",
    "    val1 = S - Sn\n",
    "    val2 = S2 - S2n\n",
    "    val2 = val2 / val1\n",
    "    x = (val1 + val2)/2\n",
    "    y = x - val1\n",
    "    return[int(x),int(y)]\n",
    "nums = [1, 2, 3, 6, 7, 5, 7]\n",
    "findMissingRepeatingNumbers1(nums)"
   ]
  },
  {
   "cell_type": "code",
   "execution_count": 14,
   "id": "b411f511",
   "metadata": {},
   "outputs": [
    {
     "data": {
      "text/plain": [
       "[7, 4]"
      ]
     },
     "execution_count": 14,
     "metadata": {},
     "output_type": "execute_result"
    }
   ],
   "source": [
    "# XOR Method\n",
    "\n",
    "def findMissingRepeatingNumbers2(nums):\n",
    "    n = len(nums)\n",
    "    xr = 0\n",
    "    for i in range(n):\n",
    "        xr = xr^nums[i]\n",
    "        xr = xr^(i+1)\n",
    "    bitNo = 0\n",
    "    while True:\n",
    "        if (xr & (1<<bitNo)) != 0:\n",
    "            break\n",
    "        bitNo += 1\n",
    "    zero = 0\n",
    "    one = 0\n",
    "    for i in range(n):\n",
    "        if (nums[i] & (1<<bitNo))!= 0:\n",
    "            one = one ^ nums[i]\n",
    "        else:\n",
    "            zero  = zero ^ nums[i]\n",
    "    for i in range(1,n+1):\n",
    "        if (i & (1<<bitNo))!= 0:\n",
    "            one = one ^ i\n",
    "        else:\n",
    "            zero  = zero ^ i\n",
    "    cnt = 0\n",
    "    for i in range(n):\n",
    "        if nums[i] == zero:\n",
    "            cnt += 1\n",
    "    if cnt == 2:\n",
    "        return [zero,one]\n",
    "    return [one,zero]\n",
    "nums = [1, 2, 3, 6, 7, 5, 7]\n",
    "findMissingRepeatingNumbers2(nums)"
   ]
  },
  {
   "cell_type": "code",
   "execution_count": 21,
   "id": "b15b72fb",
   "metadata": {},
   "outputs": [
    {
     "data": {
      "text/plain": [
       "5"
      ]
     },
     "execution_count": 21,
     "metadata": {},
     "output_type": "execute_result"
    }
   ],
   "source": [
    "# Count Inversions\n",
    "\n",
    "def _merge_Sort(nums, low, high):\n",
    "    cnt = 0\n",
    "    if low >= high:\n",
    "        return cnt\n",
    "    mid = (low + high) // 2\n",
    "    cnt += _merge_Sort(nums, low, mid)\n",
    "    cnt += _merge_Sort(nums, mid + 1, high)\n",
    "    cnt += _merge(nums, low, mid, high)\n",
    "    return cnt\n",
    "\n",
    "def _merge(nums, low, mid, high):\n",
    "    temp = []\n",
    "    left = low\n",
    "    right = mid + 1\n",
    "    cnt = 0\n",
    "\n",
    "    while left <= mid and right <= high:\n",
    "        if nums[left] <= nums[right]:\n",
    "            temp.append(nums[left])\n",
    "            left += 1\n",
    "        else:\n",
    "            temp.append(nums[right])\n",
    "            cnt += (mid - left + 1)\n",
    "            right += 1\n",
    "\n",
    "    while left <= mid:\n",
    "        temp.append(nums[left])\n",
    "        left += 1\n",
    "\n",
    "    while right <= high:\n",
    "        temp.append(nums[right])\n",
    "        right += 1\n",
    "\n",
    "    for i in range(low, high + 1):\n",
    "        nums[i] = temp[i - low]\n",
    "    return cnt\n",
    "\n",
    "def numberOfInversions(nums):\n",
    "    return _merge_Sort(nums,0,len(nums)-1)\n",
    "\n",
    "nums = [2, 3, 7, 1, 3, 5]\n",
    "numberOfInversions(nums)"
   ]
  },
  {
   "cell_type": "code",
   "execution_count": 34,
   "id": "37266d6d",
   "metadata": {},
   "outputs": [
    {
     "data": {
      "text/plain": [
       "2"
      ]
     },
     "execution_count": 34,
     "metadata": {},
     "output_type": "execute_result"
    }
   ],
   "source": [
    "# Reverse Pairs; Time complexity : O(2nlogn), SC: O(n)\n",
    "def reversePairs(nums: list[int]) -> int:\n",
    "    return _merge_Sort(nums,0,len(nums)-1)\n",
    "\n",
    "def countPairs(nums,low,mid,high):\n",
    "    right = mid + 1\n",
    "    cnt = 0\n",
    "    for i in range(low,mid+1):\n",
    "        while right <= high and nums[i] > 2 * nums[right]:\n",
    "            right += 1\n",
    "        cnt += (right - (mid + 1))\n",
    "    return cnt\n",
    "\n",
    "def _merge_Sort(nums, low, high):\n",
    "    if low >= high:\n",
    "        return 0\n",
    "    mid = (low + high) // 2\n",
    "    cnt = _merge_Sort(nums, low, mid)\n",
    "    cnt += _merge_Sort(nums, mid + 1, high)\n",
    "    cnt += countPairs(nums,low,mid,high)\n",
    "    _merge(nums, low, mid, high)\n",
    "    return cnt\n",
    "\n",
    "def _merge(nums, low, mid, high):\n",
    "    temp = []\n",
    "    left = low\n",
    "    right = mid + 1\n",
    "    while left <= mid and right <= high:\n",
    "        if nums[left] <= nums[right]:\n",
    "            temp.append(nums[left])\n",
    "            left += 1\n",
    "        else:\n",
    "            temp.append(nums[right])\n",
    "            right += 1\n",
    "\n",
    "    while left <= mid:\n",
    "        temp.append(nums[left])\n",
    "        left += 1\n",
    "\n",
    "    while right <= high:\n",
    "        temp.append(nums[right])\n",
    "        right += 1\n",
    "\n",
    "    for i in range(low, high + 1):\n",
    "        nums[i] = temp[i - low]\n",
    "nums = [1,3,2,3,1]\n",
    "reversePairs(nums)"
   ]
  },
  {
   "cell_type": "code",
   "execution_count": 35,
   "id": "e531562d",
   "metadata": {},
   "outputs": [
    {
     "data": {
      "text/plain": [
       "6"
      ]
     },
     "execution_count": 35,
     "metadata": {},
     "output_type": "execute_result"
    }
   ],
   "source": [
    "# Maximum Product Subarray\n",
    "def maxProduct(nums: list[int]) -> int:\n",
    "    pre = 1; suff = 1\n",
    "    ans = float('-inf')\n",
    "    n = len(nums)\n",
    "    for i in range(n):\n",
    "        if pre == 0:\n",
    "            pre = 1\n",
    "        if suff == 0:\n",
    "            suff = 1\n",
    "        pre = pre * nums[i]\n",
    "        suff = suff * nums[n-i-1]\n",
    "        ans = max(ans,max(pre,suff))\n",
    "    return ans\n",
    "nums = [2,3,-2,4]\n",
    "maxProduct(nums)"
   ]
  },
  {
   "cell_type": "code",
   "execution_count": null,
   "id": "093b218a",
   "metadata": {},
   "outputs": [],
   "source": []
  }
 ],
 "metadata": {
  "kernelspec": {
   "display_name": "Python 3 (ipykernel)",
   "language": "python",
   "name": "python3"
  },
  "language_info": {
   "codemirror_mode": {
    "name": "ipython",
    "version": 3
   },
   "file_extension": ".py",
   "mimetype": "text/x-python",
   "name": "python",
   "nbconvert_exporter": "python",
   "pygments_lexer": "ipython3",
   "version": "3.9.13"
  }
 },
 "nbformat": 4,
 "nbformat_minor": 5
}
